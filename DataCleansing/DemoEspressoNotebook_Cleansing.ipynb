{
  "cells": [
    {
      "cell_type": "code",
      "execution_count": null,
      "metadata": {
        "jupyter": {
          "outputs_hidden": false,
          "source_hidden": false
        },
        "nteract": {
          "transient": {
            "deleting": false
          }
        }
      },
      "outputs": [],
      "source": [
        "%run DemoEspresso_CreateFunction"
      ]
    },
    {
      "cell_type": "code",
      "execution_count": null,
      "metadata": {
        "microsoft": {}
      },
      "outputs": [],
      "source": [
        "from synapse.ml.core.platform import find_secret\n",
        "\n",
        "# Fill in the following lines with your service information\n",
        "service_name = \"<MyOpenAIService>\" # Name of your OpenAI service\n",
        "deployment_name = \"<MyModelDepl>\" # Name of your deployment in OpenAI\n",
        "key = find_secret(\"<MySecret>\", \"<MyKeyVault>\")  # replace this with your secret and keyvault"
      ]
    },
    {
      "cell_type": "code",
      "execution_count": null,
      "metadata": {
        "collapsed": false,
        "jupyter": {
          "outputs_hidden": false,
          "source_hidden": false
        },
        "microsoft": {},
        "nteract": {
          "transient": {
            "deleting": false
          }
        }
      },
      "outputs": [],
      "source": [
        "from pyspark.sql.types import *\n",
        "from pyspark.sql.functions import *\n",
        "\n",
        "df = spark.read.option('header', 'true') \\\n",
        "                .option('delimiter', '|') \\\n",
        "                .csv('abfss://demodata@adlsespressoopenai.dfs.core.windows.net/insuranceclaims.csv') #Replace with your ADLS account\n",
        "\n",
        "display(df)"
      ]
    },
    {
      "cell_type": "code",
      "execution_count": null,
      "metadata": {
        "collapsed": false,
        "jupyter": {
          "outputs_hidden": false,
          "source_hidden": false
        },
        "nteract": {
          "transient": {
            "deleting": false
          }
        }
      },
      "outputs": [],
      "source": [
        "dfprompt = df.select(col(\"insuranceaddress\"), \\\n",
        "    address_prompt_udf(col(\"insuranceaddress\")).alias(\"prompt_address\"), \\\n",
        "    col(\"accidentcountry\"), \\\n",
        "    country_prompt_udf(col(\"accidentcountry\")).alias(\"prompt_country\"), \\\n",
        "    col(\"accidentdate\"), \\\n",
        "    date_prompt_udf(col(\"accidentdate\")).alias(\"prompt_date\"), \\\n",
        "    col(\"accidenttime\"), \\\n",
        "    time_prompt_udf(col(\"accidenttime\")).alias(\"prompt_time\"))          \n",
        "\n",
        "display(dfprompt)"
      ]
    },
    {
      "cell_type": "code",
      "execution_count": null,
      "metadata": {
        "collapsed": false,
        "jupyter": {
          "outputs_hidden": false,
          "source_hidden": false
        },
        "nteract": {
          "transient": {
            "deleting": false
          }
        }
      },
      "outputs": [],
      "source": [
        "from synapse.ml.cognitive import OpenAICompletion\n",
        "\n",
        "completion_address = (\n",
        "    OpenAICompletion()\n",
        "    .setSubscriptionKey(key)\n",
        "    .setDeploymentName(deployment_name)\n",
        "    .setUrl(\"https://{}.openai.azure.com/\".format(service_name))\n",
        "    .setMaxTokens(2048)\n",
        "    .setPromptCol(\"prompt_address\")\n",
        "    .setErrorCol(\"error_address\")\n",
        "    .setOutputCol(\"response_address\")\n",
        ")\n",
        "\n",
        "completion_country = (\n",
        "    OpenAICompletion()\n",
        "    .setSubscriptionKey(key)\n",
        "    .setDeploymentName(deployment_name)\n",
        "    .setUrl(\"https://{}.openai.azure.com/\".format(service_name))\n",
        "    .setMaxTokens(2048)\n",
        "    .setPromptCol(\"prompt_country\")\n",
        "    .setErrorCol(\"error_country\")\n",
        "    .setOutputCol(\"response_country\")\n",
        ")\n",
        "\n",
        "completion_date = (\n",
        "    OpenAICompletion()\n",
        "    .setSubscriptionKey(key)\n",
        "    .setDeploymentName(deployment_name)\n",
        "    .setUrl(\"https://{}.openai.azure.com/\".format(service_name))\n",
        "    .setMaxTokens(2048)\n",
        "    .setPromptCol(\"prompt_date\")\n",
        "    .setErrorCol(\"error_date\")\n",
        "    .setOutputCol(\"response_date\")\n",
        ")\n",
        "\n",
        "completion_time = (\n",
        "    OpenAICompletion()\n",
        "    .setSubscriptionKey(key)\n",
        "    .setDeploymentName(deployment_name)\n",
        "    .setUrl(\"https://{}.openai.azure.com/\".format(service_name))\n",
        "    .setMaxTokens(2048)\n",
        "    .setPromptCol(\"prompt_time\")\n",
        "    .setErrorCol(\"error_time\")\n",
        "    .setOutputCol(\"response_time\")\n",
        ")\n",
        "\n"
      ]
    },
    {
      "cell_type": "code",
      "execution_count": null,
      "metadata": {
        "collapsed": false,
        "jupyter": {
          "outputs_hidden": false,
          "source_hidden": false
        },
        "nteract": {
          "transient": {
            "deleting": false
          }
        }
      },
      "outputs": [],
      "source": [
        "from pyspark.sql.functions import col\n",
        "\n",
        "address_df = completion_address.transform(dfprompt)\n",
        "country_df = completion_country.transform(address_df)\n",
        "date_df = completion_date.transform(country_df)\n",
        "completed_df = completion_time.transform(date_df).cache()\n",
        "\n",
        "display(completed_df)\n"
      ]
    },
    {
      "cell_type": "code",
      "execution_count": null,
      "metadata": {
        "collapsed": false,
        "jupyter": {
          "outputs_hidden": false,
          "source_hidden": false
        },
        "nteract": {
          "transient": {
            "deleting": false
          }
        }
      },
      "outputs": [],
      "source": [
        "from pyspark.sql.functions import *\n",
        "\n",
        "display(\n",
        "    completed_df.select( \n",
        "        col('insuranceaddress'), \n",
        "        col('response_address.choices.text').getItem(0).alias('address'),   \n",
        "        col('accidentcountry'), \n",
        "        col('response_country.choices.text').getItem(0).alias('country'),  \n",
        "        col('accidentdate'), \n",
        "        col('response_date.choices.text').getItem(0).alias('date'), \n",
        "        col('accidenttime'), \n",
        "        col('response_time.choices.text').getItem(0).alias('time'),     \n",
        "    )\n",
        "    \n",
        ")"
      ]
    }
  ],
  "metadata": {
    "description": null,
    "kernelspec": {
      "display_name": "Synapse PySpark",
      "name": "synapse_pyspark"
    },
    "language_info": {
      "name": "python"
    },
    "save_output": true,
    "synapse_widget": {
      "state": {
        "3007e45e-2a1e-41f7-96c2-04b0d19c9f40": {
          "persist_state": {
            "view": {
              "chartOptions": {
                "aggregationType": "count",
                "categoryFieldKeys": [
                  "0"
                ],
                "chartType": "bar",
                "isStacked": false,
                "seriesFieldKeys": [
                  "0"
                ]
              },
              "tableOptions": {},
              "type": "details"
            }
          },
          "sync_state": {
            "isSummary": false,
            "language": "scala",
            "table": {
              "rows": [
                {
                  "0": "Rua dos Pescadores 1749-012 Lisboa",
                  "1": "Portugal",
                  "2": "12-02-2023",
                  "3": "23:47"
                },
                {
                  "0": "Piazza del Popolo 00187 Roma",
                  "1": "Italia",
                  "2": "03/01/2023",
                  "3": "14:05"
                },
                {
                  "0": "Carrer de Pau Claris 08009 Barcelona",
                  "1": "Spain",
                  "2": "25122022",
                  "3": "07:13"
                },
                {
                  "0": "Unter den Linden 78, 10117 Berlin",
                  "1": "Deutschland",
                  "2": "07/11/22",
                  "3": "17:29"
                },
                {
                  "0": "Avenue des Gobelins, 75013 Paris",
                  "1": "France",
                  "2": "2022/10/01",
                  "3": "08:56 a.m."
                },
                {
                  "0": "Náměstí Republiky 10, 110 00 Praha 1",
                  "1": "Česká republika",
                  "2": "06-09-2022",
                  "3": "12:34"
                },
                {
                  "0": "Korte Leidsedwarsstr 12-14 1017 Amsterdam",
                  "1": "Netherlands",
                  "2": "22/8/2022",
                  "3": "21:18"
                },
                {
                  "0": "Ulica Krupnicza 7, 31-123 Kraków",
                  "1": "Polska.",
                  "2": "2022-7-1",
                  "3": "05:42"
                },
                {
                  "0": "Vasagatan 14, 111 20 Stockholm",
                  "1": "Sverige",
                  "2": "26.06.2022",
                  "3": "16:09"
                },
                {
                  "0": "Andrássy út 60, 1061 Budapest",
                  "1": "Hungary",
                  "2": "13/05/2022",
                  "3": "09:30pm"
                }
              ],
              "schema": [
                {
                  "key": "0",
                  "name": "insuranceaddress",
                  "type": "string"
                },
                {
                  "key": "1",
                  "name": "accidentcountry",
                  "type": "string"
                },
                {
                  "key": "2",
                  "name": "accidentdate",
                  "type": "string"
                },
                {
                  "key": "3",
                  "name": "accidenttime",
                  "type": "string"
                }
              ],
              "truncated": false
            }
          },
          "type": "Synapse.DataFrame"
        },
        "3b052212-1230-4fe1-8084-038ddedd6737": {
          "persist_state": {
            "view": {
              "chartOptions": {
                "aggregationType": "count",
                "categoryFieldKeys": [
                  "0"
                ],
                "chartType": "bar",
                "isStacked": false,
                "seriesFieldKeys": [
                  "0"
                ]
              },
              "tableOptions": {},
              "type": "details"
            }
          },
          "sync_state": {
            "isSummary": false,
            "language": "scala",
            "table": {
              "rows": [
                {
                  "0": "Rua dos Pescadores 1749-012 Lisboa",
                  "1": "Extract zipcode, city, streetname & streetnumber from following address and put it in a JSON object structured as \n\n{\n\n\"zipcode\":\"\" ,\n\n\"city\":\"\" ,\n\n\"streetname\": \"\",\n\n\"streetnumber\":\"\"\n\n } \n\nAddress:###Rua dos Pescadores 1749-012 Lisboa\n\n###\n\njson:",
                  "2": "Portugal",
                  "3": "Convert the country name to the ISO 3166-1 alpha-2 code\n\nCountry:België\n\nISO code:BE\n\n##\n\nCountry:Portugal\n\nISO code:",
                  "4": "12-02-2023",
                  "5": "Convert the date to the DD-MM-YYYY format.\n\ndate: 01/12/24\n\nconverted date: 01-12-2024\n\n##\n\ndate: 2002-05-01\n\nconverted date: 01-05-2002\n\n##\n\ndate:12-02-2023\n\nconverted date:",
                  "6": "23:47",
                  "7": "If the time is in 12hr notation, convert it to 24hr notation \n\n Time: 02:15\n\n24hr: 02:15\n\n##Time: 02:15 p.m.\n\n24hr: 14:15\n\n##Time:23:47\n\n24hr:",
                  "9": {
                    "choices": [
                      {
                        "finish_reason": "stop",
                        "index": 0,
                        "text": " {\n\"zipcode\": \"1749-012\",\n\"city\": \"Lisboa\", \n\"streetname\": \"Rua dos Pescadores\", \n\"streetnumber\": \"1749-012\"\n}"
                      }
                    ],
                    "created": "1676321484",
                    "id": "cmpl-6ja5Em5KRlq82MDEQY9WQ1ZndndWm",
                    "model": "text-davinci-003",
                    "object": "text_completion"
                  },
                  "11": {
                    "choices": [
                      {
                        "finish_reason": "stop",
                        "index": 0,
                        "text": "PT"
                      }
                    ],
                    "created": "1676321486",
                    "id": "cmpl-6ja5GjEegOddYzG84PiGTarPLK5I4",
                    "model": "text-davinci-003",
                    "object": "text_completion"
                  },
                  "13": {
                    "choices": [
                      {
                        "finish_reason": "stop",
                        "index": 0,
                        "text": " 12-02-2023"
                      }
                    ],
                    "created": "1676321487",
                    "id": "cmpl-6ja5HNcuK10Sr79g0zBo1BB1KY5eY",
                    "model": "text-davinci-003",
                    "object": "text_completion"
                  },
                  "15": {
                    "choices": [
                      {
                        "finish_reason": "stop",
                        "index": 0,
                        "text": " 23:47"
                      }
                    ],
                    "created": "1676321487",
                    "id": "cmpl-6ja5HwxGGs641wtFwGUtJJLYDDP8I",
                    "model": "text-davinci-003",
                    "object": "text_completion"
                  }
                },
                {
                  "0": "Piazza del Popolo 00187 Roma",
                  "1": "Extract zipcode, city, streetname & streetnumber from following address and put it in a JSON object structured as \n\n{\n\n\"zipcode\":\"\" ,\n\n\"city\":\"\" ,\n\n\"streetname\": \"\",\n\n\"streetnumber\":\"\"\n\n } \n\nAddress:###Piazza del Popolo 00187 Roma\n\n###\n\njson:",
                  "2": "Italia",
                  "3": "Convert the country name to the ISO 3166-1 alpha-2 code\n\nCountry:België\n\nISO code:BE\n\n##\n\nCountry:Italia\n\nISO code:",
                  "4": "03/01/2023",
                  "5": "Convert the date to the DD-MM-YYYY format.\n\ndate: 01/12/24\n\nconverted date: 01-12-2024\n\n##\n\ndate: 2002-05-01\n\nconverted date: 01-05-2002\n\n##\n\ndate:03/01/2023\n\nconverted date:",
                  "6": "14:05",
                  "7": "If the time is in 12hr notation, convert it to 24hr notation \n\n Time: 02:15\n\n24hr: 02:15\n\n##Time: 02:15 p.m.\n\n24hr: 14:15\n\n##Time:14:05\n\n24hr:",
                  "9": {
                    "choices": [
                      {
                        "finish_reason": "stop",
                        "index": 0,
                        "text": " {\n    \"zipcode\":\"00187\",\n    \"city\":\"Roma\",\n    \"streetname\": \"Piazza del Popolo\",\n    \"streetnumber\":\"\"\n }"
                      }
                    ],
                    "created": "1676321488",
                    "id": "cmpl-6ja5IdH73PLIBDRjNuYz2qlkohP8H",
                    "model": "text-davinci-003",
                    "object": "text_completion"
                  },
                  "11": {
                    "choices": [
                      {
                        "finish_reason": "stop",
                        "index": 0,
                        "text": "IT"
                      }
                    ],
                    "created": "1676321488",
                    "id": "cmpl-6ja5IqrQO0L9AngannaYAtsvDvxdy",
                    "model": "text-davinci-003",
                    "object": "text_completion"
                  },
                  "13": {
                    "choices": [
                      {
                        "finish_reason": "stop",
                        "index": 0,
                        "text": " 03-01-2023"
                      }
                    ],
                    "created": "1676321488",
                    "id": "cmpl-6ja5I0B8hen43gIyBiUl2odGbRWnl",
                    "model": "text-davinci-003",
                    "object": "text_completion"
                  },
                  "15": {
                    "choices": [
                      {
                        "finish_reason": "stop",
                        "index": 0,
                        "text": " 14:05"
                      }
                    ],
                    "created": "1676321489",
                    "id": "cmpl-6ja5JsXREXPNL08SJgCPlVM6g2alJ",
                    "model": "text-davinci-003",
                    "object": "text_completion"
                  }
                },
                {
                  "0": "Carrer de Pau Claris 08009 Barcelona",
                  "1": "Extract zipcode, city, streetname & streetnumber from following address and put it in a JSON object structured as \n\n{\n\n\"zipcode\":\"\" ,\n\n\"city\":\"\" ,\n\n\"streetname\": \"\",\n\n\"streetnumber\":\"\"\n\n } \n\nAddress:###Carrer de Pau Claris 08009 Barcelona\n\n###\n\njson:",
                  "2": "Spain",
                  "3": "Convert the country name to the ISO 3166-1 alpha-2 code\n\nCountry:België\n\nISO code:BE\n\n##\n\nCountry:Spain\n\nISO code:",
                  "4": "25122022",
                  "5": "Convert the date to the DD-MM-YYYY format.\n\ndate: 01/12/24\n\nconverted date: 01-12-2024\n\n##\n\ndate: 2002-05-01\n\nconverted date: 01-05-2002\n\n##\n\ndate:25122022\n\nconverted date:",
                  "6": "07:13",
                  "7": "If the time is in 12hr notation, convert it to 24hr notation \n\n Time: 02:15\n\n24hr: 02:15\n\n##Time: 02:15 p.m.\n\n24hr: 14:15\n\n##Time:07:13\n\n24hr:",
                  "9": {
                    "choices": [
                      {
                        "finish_reason": "stop",
                        "index": 0,
                        "text": "\n\n{\n\n\"zipcode\": \"08009\",\n\n\"city\":\"Barcelona\",\n\n\"streetname\":\"Carrer de Pau Claris\",\n\n\"streetnumber\":\"0\"\n\n}"
                      }
                    ],
                    "created": "1676321489",
                    "id": "cmpl-6ja5JqAf4yt1TnMemweiyFL4YAIrh",
                    "model": "text-davinci-003",
                    "object": "text_completion"
                  },
                  "11": {
                    "choices": [
                      {
                        "finish_reason": "stop",
                        "index": 0,
                        "text": "ES"
                      }
                    ],
                    "created": "1676321489",
                    "id": "cmpl-6ja5JlHY5cjR6tX29gYdeGIfSn27M",
                    "model": "text-davinci-003",
                    "object": "text_completion"
                  },
                  "13": {
                    "choices": [
                      {
                        "finish_reason": "stop",
                        "index": 0,
                        "text": "25-12-2022"
                      }
                    ],
                    "created": "1676321490",
                    "id": "cmpl-6ja5KoBEcgZ3i6ctXCr51v3nXcxtA",
                    "model": "text-davinci-003",
                    "object": "text_completion"
                  },
                  "15": {
                    "choices": [
                      {
                        "finish_reason": "stop",
                        "index": 0,
                        "text": " 07:13"
                      }
                    ],
                    "created": "1676321490",
                    "id": "cmpl-6ja5KTRA2gaxUENYgbqs1a9ljl271",
                    "model": "text-davinci-003",
                    "object": "text_completion"
                  }
                },
                {
                  "0": "Unter den Linden 78, 10117 Berlin",
                  "1": "Extract zipcode, city, streetname & streetnumber from following address and put it in a JSON object structured as \n\n{\n\n\"zipcode\":\"\" ,\n\n\"city\":\"\" ,\n\n\"streetname\": \"\",\n\n\"streetnumber\":\"\"\n\n } \n\nAddress:###Unter den Linden 78, 10117 Berlin\n\n###\n\njson:",
                  "2": "Deutschland",
                  "3": "Convert the country name to the ISO 3166-1 alpha-2 code\n\nCountry:België\n\nISO code:BE\n\n##\n\nCountry:Deutschland\n\nISO code:",
                  "4": "07/11/22",
                  "5": "Convert the date to the DD-MM-YYYY format.\n\ndate: 01/12/24\n\nconverted date: 01-12-2024\n\n##\n\ndate: 2002-05-01\n\nconverted date: 01-05-2002\n\n##\n\ndate:07/11/22\n\nconverted date:",
                  "6": "17:29",
                  "7": "If the time is in 12hr notation, convert it to 24hr notation \n\n Time: 02:15\n\n24hr: 02:15\n\n##Time: 02:15 p.m.\n\n24hr: 14:15\n\n##Time:17:29\n\n24hr:",
                  "9": {
                    "choices": [
                      {
                        "finish_reason": "stop",
                        "index": 0,
                        "text": "\n{\n\"zipcode\":\"10117\" ,\n\n\"city\":\"Berlin\" ,\n\n\"streetname\": \"Unter den Linden\",\n\n\"streetnumber\":\"78\"\n\n}"
                      }
                    ],
                    "created": "1676321490",
                    "id": "cmpl-6ja5K71VGjjKOSPqlYUTf1C7K8q3C",
                    "model": "text-davinci-003",
                    "object": "text_completion"
                  },
                  "11": {
                    "choices": [
                      {
                        "finish_reason": "stop",
                        "index": 0,
                        "text": "DE"
                      }
                    ],
                    "created": "1676321491",
                    "id": "cmpl-6ja5L5gh0sYS4IGZOeQkMo4k1Jyhq",
                    "model": "text-davinci-003",
                    "object": "text_completion"
                  },
                  "13": {
                    "choices": [
                      {
                        "finish_reason": "stop",
                        "index": 0,
                        "text": " 07-11-2022"
                      }
                    ],
                    "created": "1676321491",
                    "id": "cmpl-6ja5LTCMd36fXrjmKEXTlu1X0xWNL",
                    "model": "text-davinci-003",
                    "object": "text_completion"
                  },
                  "15": {
                    "choices": [
                      {
                        "finish_reason": "stop",
                        "index": 0,
                        "text": " 17:29"
                      }
                    ],
                    "created": "1676321491",
                    "id": "cmpl-6ja5LEEqz7a3bPjAL83AHHAQCNXrQ",
                    "model": "text-davinci-003",
                    "object": "text_completion"
                  }
                },
                {
                  "0": "Avenue des Gobelins, 75013 Paris",
                  "1": "Extract zipcode, city, streetname & streetnumber from following address and put it in a JSON object structured as \n\n{\n\n\"zipcode\":\"\" ,\n\n\"city\":\"\" ,\n\n\"streetname\": \"\",\n\n\"streetnumber\":\"\"\n\n } \n\nAddress:###Avenue des Gobelins, 75013 Paris\n\n###\n\njson:",
                  "2": "France",
                  "3": "Convert the country name to the ISO 3166-1 alpha-2 code\n\nCountry:België\n\nISO code:BE\n\n##\n\nCountry:France\n\nISO code:",
                  "4": "2022/10/01",
                  "5": "Convert the date to the DD-MM-YYYY format.\n\ndate: 01/12/24\n\nconverted date: 01-12-2024\n\n##\n\ndate: 2002-05-01\n\nconverted date: 01-05-2002\n\n##\n\ndate:2022/10/01\n\nconverted date:",
                  "6": "08:56 a.m.",
                  "7": "If the time is in 12hr notation, convert it to 24hr notation \n\n Time: 02:15\n\n24hr: 02:15\n\n##Time: 02:15 p.m.\n\n24hr: 14:15\n\n##Time:08:56 a.m.\n\n24hr:",
                  "9": {
                    "choices": [
                      {
                        "finish_reason": "stop",
                        "index": 0,
                        "text": " {\n    \"zipcode\": \"75013\",\n    \"city\": \"Paris\",\n    \"streetname\": \"Avenue des Gobelins\",\n    \"streetnumber\": \"\"\n}"
                      }
                    ],
                    "created": "1676321491",
                    "id": "cmpl-6ja5LiVbBV1C3O5ZqxK4cB3kDNsj4",
                    "model": "text-davinci-003",
                    "object": "text_completion"
                  },
                  "11": {
                    "choices": [
                      {
                        "finish_reason": "stop",
                        "index": 0,
                        "text": "FR"
                      }
                    ],
                    "created": "1676321492",
                    "id": "cmpl-6ja5M5xFZYvZ0C9udLTcCJxSQTKiH",
                    "model": "text-davinci-003",
                    "object": "text_completion"
                  },
                  "13": {
                    "choices": [
                      {
                        "finish_reason": "stop",
                        "index": 0,
                        "text": " 01-10-2022"
                      }
                    ],
                    "created": "1676321492",
                    "id": "cmpl-6ja5MhlknqkIp84LVcHKs9F8ecmmn",
                    "model": "text-davinci-003",
                    "object": "text_completion"
                  },
                  "15": {
                    "choices": [
                      {
                        "finish_reason": "stop",
                        "index": 0,
                        "text": " 08:56"
                      }
                    ],
                    "created": "1676321492",
                    "id": "cmpl-6ja5MGQUDULmbXqtuVKMtBJj4WqbR",
                    "model": "text-davinci-003",
                    "object": "text_completion"
                  }
                },
                {
                  "0": "Náměstí Republiky 10, 110 00 Praha 1",
                  "1": "Extract zipcode, city, streetname & streetnumber from following address and put it in a JSON object structured as \n\n{\n\n\"zipcode\":\"\" ,\n\n\"city\":\"\" ,\n\n\"streetname\": \"\",\n\n\"streetnumber\":\"\"\n\n } \n\nAddress:###Náměstí Republiky 10, 110 00 Praha 1\n\n###\n\njson:",
                  "2": "Česká republika",
                  "3": "Convert the country name to the ISO 3166-1 alpha-2 code\n\nCountry:België\n\nISO code:BE\n\n##\n\nCountry:Česká republika\n\nISO code:",
                  "4": "06-09-2022",
                  "5": "Convert the date to the DD-MM-YYYY format.\n\ndate: 01/12/24\n\nconverted date: 01-12-2024\n\n##\n\ndate: 2002-05-01\n\nconverted date: 01-05-2002\n\n##\n\ndate:06-09-2022\n\nconverted date:",
                  "6": "12:34",
                  "7": "If the time is in 12hr notation, convert it to 24hr notation \n\n Time: 02:15\n\n24hr: 02:15\n\n##Time: 02:15 p.m.\n\n24hr: 14:15\n\n##Time:12:34\n\n24hr:",
                  "9": {
                    "choices": [
                      {
                        "finish_reason": "stop",
                        "index": 0,
                        "text": " {\n\n\"zipcode\":\"110 00\" ,\n\n\"city\":\"Praha 1\" ,\n\n\"streetname\":\"Náměstí Republiky\" ,\n\n\"streetnumber\":\"10\"\n\n}"
                      }
                    ],
                    "created": "1676321492",
                    "id": "cmpl-6ja5M8z2OIGtgCFm7ws9vslpJdQTP",
                    "model": "text-davinci-003",
                    "object": "text_completion"
                  },
                  "11": {
                    "choices": [
                      {
                        "finish_reason": "stop",
                        "index": 0,
                        "text": "CZ"
                      }
                    ],
                    "created": "1676321493",
                    "id": "cmpl-6ja5NuHmv97jKEPTs3Ifdc9fdOOTn",
                    "model": "text-davinci-003",
                    "object": "text_completion"
                  },
                  "13": {
                    "choices": [
                      {
                        "finish_reason": "stop",
                        "index": 0,
                        "text": "06-09-2022"
                      }
                    ],
                    "created": "1676321493",
                    "id": "cmpl-6ja5NCemXDNXBJujA2KINVvVZIPM8",
                    "model": "text-davinci-003",
                    "object": "text_completion"
                  },
                  "15": {
                    "choices": [
                      {
                        "finish_reason": "stop",
                        "index": 0,
                        "text": " 12:34"
                      }
                    ],
                    "created": "1676321494",
                    "id": "cmpl-6ja5Ou2iwvUDJ3PVgBWaAgnLnieFj",
                    "model": "text-davinci-003",
                    "object": "text_completion"
                  }
                },
                {
                  "0": "Korte Leidsedwarsstr 12-14 1017 Amsterdam",
                  "1": "Extract zipcode, city, streetname & streetnumber from following address and put it in a JSON object structured as \n\n{\n\n\"zipcode\":\"\" ,\n\n\"city\":\"\" ,\n\n\"streetname\": \"\",\n\n\"streetnumber\":\"\"\n\n } \n\nAddress:###Korte Leidsedwarsstr 12-14 1017 Amsterdam\n\n###\n\njson:",
                  "2": "Netherlands",
                  "3": "Convert the country name to the ISO 3166-1 alpha-2 code\n\nCountry:België\n\nISO code:BE\n\n##\n\nCountry:Netherlands\n\nISO code:",
                  "4": "22/8/2022",
                  "5": "Convert the date to the DD-MM-YYYY format.\n\ndate: 01/12/24\n\nconverted date: 01-12-2024\n\n##\n\ndate: 2002-05-01\n\nconverted date: 01-05-2002\n\n##\n\ndate:22/8/2022\n\nconverted date:",
                  "6": "21:18",
                  "7": "If the time is in 12hr notation, convert it to 24hr notation \n\n Time: 02:15\n\n24hr: 02:15\n\n##Time: 02:15 p.m.\n\n24hr: 14:15\n\n##Time:21:18\n\n24hr:",
                  "9": {
                    "choices": [
                      {
                        "finish_reason": "stop",
                        "index": 0,
                        "text": "\n{\n\"zipcode\": \"1017\",\n\"city\": \"Amsterdam\",\n\"streetname\": \"Korte Leidsedwarsstr\",\n\"streetnumber\": \"12-14\"\n}"
                      }
                    ],
                    "created": "1676321494",
                    "id": "cmpl-6ja5OfxpjBKCpfLLptugLgWaLJmnk",
                    "model": "text-davinci-003",
                    "object": "text_completion"
                  },
                  "11": {
                    "choices": [
                      {
                        "finish_reason": "stop",
                        "index": 0,
                        "text": "NL"
                      }
                    ],
                    "created": "1676321495",
                    "id": "cmpl-6ja5PR676ksj7isPOGWwcULAIQIdV",
                    "model": "text-davinci-003",
                    "object": "text_completion"
                  },
                  "13": {
                    "choices": [
                      {
                        "finish_reason": "stop",
                        "index": 0,
                        "text": " 22-08-2022"
                      }
                    ],
                    "created": "1676321495",
                    "id": "cmpl-6ja5PfeLekSzgSWWmar4Mo2u6fnYa",
                    "model": "text-davinci-003",
                    "object": "text_completion"
                  },
                  "15": {
                    "choices": [
                      {
                        "finish_reason": "stop",
                        "index": 0,
                        "text": " 21:18"
                      }
                    ],
                    "created": "1676321495",
                    "id": "cmpl-6ja5Pb5BXWlvMFgWbvgAroUHCDnEQ",
                    "model": "text-davinci-003",
                    "object": "text_completion"
                  }
                },
                {
                  "0": "Ulica Krupnicza 7, 31-123 Kraków",
                  "1": "Extract zipcode, city, streetname & streetnumber from following address and put it in a JSON object structured as \n\n{\n\n\"zipcode\":\"\" ,\n\n\"city\":\"\" ,\n\n\"streetname\": \"\",\n\n\"streetnumber\":\"\"\n\n } \n\nAddress:###Ulica Krupnicza 7, 31-123 Kraków\n\n###\n\njson:",
                  "2": "Polska.",
                  "3": "Convert the country name to the ISO 3166-1 alpha-2 code\n\nCountry:België\n\nISO code:BE\n\n##\n\nCountry:Polska.\n\nISO code:",
                  "4": "2022-7-1",
                  "5": "Convert the date to the DD-MM-YYYY format.\n\ndate: 01/12/24\n\nconverted date: 01-12-2024\n\n##\n\ndate: 2002-05-01\n\nconverted date: 01-05-2002\n\n##\n\ndate:2022-7-1\n\nconverted date:",
                  "6": "05:42",
                  "7": "If the time is in 12hr notation, convert it to 24hr notation \n\n Time: 02:15\n\n24hr: 02:15\n\n##Time: 02:15 p.m.\n\n24hr: 14:15\n\n##Time:05:42\n\n24hr:",
                  "9": {
                    "choices": [
                      {
                        "finish_reason": "stop",
                        "index": 0,
                        "text": " \n\n{\n\"zipcode\":\"31-123\" ,\n\"city\":\"Kraków\" ,\n\"streetname\": \"Ulica Krupnicza\",\n\"streetnumber\":\"7\"\n}"
                      }
                    ],
                    "created": "1676321495",
                    "id": "cmpl-6ja5PxaBp6nKwXda8oFekjgqPjem3",
                    "model": "text-davinci-003",
                    "object": "text_completion"
                  },
                  "11": {
                    "choices": [
                      {
                        "finish_reason": "stop",
                        "index": 0,
                        "text": "PL"
                      }
                    ],
                    "created": "1676321496",
                    "id": "cmpl-6ja5QbTOFN6cAcjgDyjklVxoaSBdB",
                    "model": "text-davinci-003",
                    "object": "text_completion"
                  },
                  "13": {
                    "choices": [
                      {
                        "finish_reason": "stop",
                        "index": 0,
                        "text": " 01-07-2022"
                      }
                    ],
                    "created": "1676321496",
                    "id": "cmpl-6ja5QpQXaIbL6qPN5Xuwmfk6eaVT6",
                    "model": "text-davinci-003",
                    "object": "text_completion"
                  },
                  "15": {
                    "choices": [
                      {
                        "finish_reason": "stop",
                        "index": 0,
                        "text": " 05:42"
                      }
                    ],
                    "created": "1676321496",
                    "id": "cmpl-6ja5QWx3qiEDewpVCYCAP8gIiRXXG",
                    "model": "text-davinci-003",
                    "object": "text_completion"
                  }
                },
                {
                  "0": "Vasagatan 14, 111 20 Stockholm",
                  "1": "Extract zipcode, city, streetname & streetnumber from following address and put it in a JSON object structured as \n\n{\n\n\"zipcode\":\"\" ,\n\n\"city\":\"\" ,\n\n\"streetname\": \"\",\n\n\"streetnumber\":\"\"\n\n } \n\nAddress:###Vasagatan 14, 111 20 Stockholm\n\n###\n\njson:",
                  "2": "Sverige",
                  "3": "Convert the country name to the ISO 3166-1 alpha-2 code\n\nCountry:België\n\nISO code:BE\n\n##\n\nCountry:Sverige\n\nISO code:",
                  "4": "26.06.2022",
                  "5": "Convert the date to the DD-MM-YYYY format.\n\ndate: 01/12/24\n\nconverted date: 01-12-2024\n\n##\n\ndate: 2002-05-01\n\nconverted date: 01-05-2002\n\n##\n\ndate:26.06.2022\n\nconverted date:",
                  "6": "16:09",
                  "7": "If the time is in 12hr notation, convert it to 24hr notation \n\n Time: 02:15\n\n24hr: 02:15\n\n##Time: 02:15 p.m.\n\n24hr: 14:15\n\n##Time:16:09\n\n24hr:",
                  "9": {
                    "choices": [
                      {
                        "finish_reason": "stop",
                        "index": 0,
                        "text": " {\n\n\"zipcode\":\"11120\" ,\n\n\"city\":\"Stockholm\" ,\n\n\"streetname\": \"Vasagatan\",\n\n\"streetnumber\":\"14\" \n\n}"
                      }
                    ],
                    "created": "1676321496",
                    "id": "cmpl-6ja5QW8H6FBKXXxyZ6JFSwEkNqc2L",
                    "model": "text-davinci-003",
                    "object": "text_completion"
                  },
                  "11": {
                    "choices": [
                      {
                        "finish_reason": "stop",
                        "index": 0,
                        "text": "SE"
                      }
                    ],
                    "created": "1676321497",
                    "id": "cmpl-6ja5R86lLdvaox96OZ4YtICHwiTW7",
                    "model": "text-davinci-003",
                    "object": "text_completion"
                  },
                  "13": {
                    "choices": [
                      {
                        "finish_reason": "stop",
                        "index": 0,
                        "text": " 26-06-2022"
                      }
                    ],
                    "created": "1676321497",
                    "id": "cmpl-6ja5RFfwKaEj6wRqGhGMKVMDNpsof",
                    "model": "text-davinci-003",
                    "object": "text_completion"
                  },
                  "15": {
                    "choices": [
                      {
                        "finish_reason": "stop",
                        "index": 0,
                        "text": " 16:09"
                      }
                    ],
                    "created": "1676321497",
                    "id": "cmpl-6ja5Rzwk1UAkampSRxH7S0i6AQYOo",
                    "model": "text-davinci-003",
                    "object": "text_completion"
                  }
                },
                {
                  "0": "Andrássy út 60, 1061 Budapest",
                  "1": "Extract zipcode, city, streetname & streetnumber from following address and put it in a JSON object structured as \n\n{\n\n\"zipcode\":\"\" ,\n\n\"city\":\"\" ,\n\n\"streetname\": \"\",\n\n\"streetnumber\":\"\"\n\n } \n\nAddress:###Andrássy út 60, 1061 Budapest\n\n###\n\njson:",
                  "2": "Hungary",
                  "3": "Convert the country name to the ISO 3166-1 alpha-2 code\n\nCountry:België\n\nISO code:BE\n\n##\n\nCountry:Hungary\n\nISO code:",
                  "4": "13/05/2022",
                  "5": "Convert the date to the DD-MM-YYYY format.\n\ndate: 01/12/24\n\nconverted date: 01-12-2024\n\n##\n\ndate: 2002-05-01\n\nconverted date: 01-05-2002\n\n##\n\ndate:13/05/2022\n\nconverted date:",
                  "6": "09:30pm",
                  "7": "If the time is in 12hr notation, convert it to 24hr notation \n\n Time: 02:15\n\n24hr: 02:15\n\n##Time: 02:15 p.m.\n\n24hr: 14:15\n\n##Time:09:30pm\n\n24hr:",
                  "9": {
                    "choices": [
                      {
                        "finish_reason": "stop",
                        "index": 0,
                        "text": " \n\n{\n\n\"zipcode\":\"1061\" ,\n\n\"city\":\"Budapest\" ,\n\n\"streetname\": \"Andrássy út\",\n\n\"streetnumber\":\"60\"\n\n }"
                      }
                    ],
                    "created": "1676321498",
                    "id": "cmpl-6ja5SnkqQeXmao2D6IZuijgM5PPPL",
                    "model": "text-davinci-003",
                    "object": "text_completion"
                  },
                  "11": {
                    "choices": [
                      {
                        "finish_reason": "stop",
                        "index": 0,
                        "text": "HU"
                      }
                    ],
                    "created": "1676321498",
                    "id": "cmpl-6ja5Sysm9192twaGAKBSH4B5kaEG8",
                    "model": "text-davinci-003",
                    "object": "text_completion"
                  },
                  "13": {
                    "choices": [
                      {
                        "finish_reason": "stop",
                        "index": 0,
                        "text": " 13-05-2022"
                      }
                    ],
                    "created": "1676321499",
                    "id": "cmpl-6ja5TF4l19BDWEgXT1Kr27fMXwW1j",
                    "model": "text-davinci-003",
                    "object": "text_completion"
                  },
                  "15": {
                    "choices": [
                      {
                        "finish_reason": "stop",
                        "index": 0,
                        "text": " 21:30"
                      }
                    ],
                    "created": "1676321499",
                    "id": "cmpl-6ja5Te08WP5ShmdE8uxW3bTyOqAi1",
                    "model": "text-davinci-003",
                    "object": "text_completion"
                  }
                }
              ],
              "schema": [
                {
                  "key": "0",
                  "name": "insuranceaddress",
                  "type": "string"
                },
                {
                  "key": "1",
                  "name": "prompt_address",
                  "type": "string"
                },
                {
                  "key": "2",
                  "name": "accidentcountry",
                  "type": "string"
                },
                {
                  "key": "3",
                  "name": "prompt_country",
                  "type": "string"
                },
                {
                  "key": "4",
                  "name": "accidentdate",
                  "type": "string"
                },
                {
                  "key": "5",
                  "name": "prompt_date",
                  "type": "string"
                },
                {
                  "key": "6",
                  "name": "accidenttime",
                  "type": "string"
                },
                {
                  "key": "7",
                  "name": "prompt_time",
                  "type": "string"
                },
                {
                  "key": "8",
                  "name": "error_address",
                  "type": "StructType(StructField(response,StringType,true),StructField(status,StructType(StructField(protocolVersion,StructType(StructField(protocol,StringType,true),StructField(major,IntegerType,false),StructField(minor,IntegerType,false)),true),StructField(statusCode,IntegerType,false),StructField(reasonPhrase,StringType,true)),true))"
                },
                {
                  "key": "9",
                  "name": "response_address",
                  "type": "StructType(StructField(id,StringType,true),StructField(object,StringType,true),StructField(created,StringType,true),StructField(model,StringType,true),StructField(choices,ArrayType(StructType(StructField(text,StringType,true),StructField(index,LongType,true),StructField(logprobs,StructType(StructField(tokens,ArrayType(StringType,true),true),StructField(token_logprobs,ArrayType(DoubleType,true),true),StructField(top_logprobs,ArrayType(MapType(StringType,DoubleType,true),true),true),StructField(text_offset,ArrayType(LongType,true),true)),true),StructField(finish_reason,StringType,true)),true),true))"
                },
                {
                  "key": "10",
                  "name": "error_country",
                  "type": "StructType(StructField(response,StringType,true),StructField(status,StructType(StructField(protocolVersion,StructType(StructField(protocol,StringType,true),StructField(major,IntegerType,false),StructField(minor,IntegerType,false)),true),StructField(statusCode,IntegerType,false),StructField(reasonPhrase,StringType,true)),true))"
                },
                {
                  "key": "11",
                  "name": "response_country",
                  "type": "StructType(StructField(id,StringType,true),StructField(object,StringType,true),StructField(created,StringType,true),StructField(model,StringType,true),StructField(choices,ArrayType(StructType(StructField(text,StringType,true),StructField(index,LongType,true),StructField(logprobs,StructType(StructField(tokens,ArrayType(StringType,true),true),StructField(token_logprobs,ArrayType(DoubleType,true),true),StructField(top_logprobs,ArrayType(MapType(StringType,DoubleType,true),true),true),StructField(text_offset,ArrayType(LongType,true),true)),true),StructField(finish_reason,StringType,true)),true),true))"
                },
                {
                  "key": "12",
                  "name": "error_date",
                  "type": "StructType(StructField(response,StringType,true),StructField(status,StructType(StructField(protocolVersion,StructType(StructField(protocol,StringType,true),StructField(major,IntegerType,false),StructField(minor,IntegerType,false)),true),StructField(statusCode,IntegerType,false),StructField(reasonPhrase,StringType,true)),true))"
                },
                {
                  "key": "13",
                  "name": "response_date",
                  "type": "StructType(StructField(id,StringType,true),StructField(object,StringType,true),StructField(created,StringType,true),StructField(model,StringType,true),StructField(choices,ArrayType(StructType(StructField(text,StringType,true),StructField(index,LongType,true),StructField(logprobs,StructType(StructField(tokens,ArrayType(StringType,true),true),StructField(token_logprobs,ArrayType(DoubleType,true),true),StructField(top_logprobs,ArrayType(MapType(StringType,DoubleType,true),true),true),StructField(text_offset,ArrayType(LongType,true),true)),true),StructField(finish_reason,StringType,true)),true),true))"
                },
                {
                  "key": "14",
                  "name": "error_time",
                  "type": "StructType(StructField(response,StringType,true),StructField(status,StructType(StructField(protocolVersion,StructType(StructField(protocol,StringType,true),StructField(major,IntegerType,false),StructField(minor,IntegerType,false)),true),StructField(statusCode,IntegerType,false),StructField(reasonPhrase,StringType,true)),true))"
                },
                {
                  "key": "15",
                  "name": "response_time",
                  "type": "StructType(StructField(id,StringType,true),StructField(object,StringType,true),StructField(created,StringType,true),StructField(model,StringType,true),StructField(choices,ArrayType(StructType(StructField(text,StringType,true),StructField(index,LongType,true),StructField(logprobs,StructType(StructField(tokens,ArrayType(StringType,true),true),StructField(token_logprobs,ArrayType(DoubleType,true),true),StructField(top_logprobs,ArrayType(MapType(StringType,DoubleType,true),true),true),StructField(text_offset,ArrayType(LongType,true),true)),true),StructField(finish_reason,StringType,true)),true),true))"
                }
              ],
              "truncated": false
            }
          },
          "type": "Synapse.DataFrame"
        },
        "ba23c7c3-acd8-4b26-bfee-70a317a8e97b": {
          "persist_state": {
            "view": {
              "chartOptions": {
                "aggregationType": "count",
                "categoryFieldKeys": [
                  "0"
                ],
                "chartType": "bar",
                "isStacked": false,
                "seriesFieldKeys": [
                  "0"
                ]
              },
              "tableOptions": {},
              "type": "details"
            }
          },
          "sync_state": {
            "isSummary": false,
            "language": "scala",
            "table": {
              "rows": [
                {
                  "0": "Rua dos Pescadores 1749-012 Lisboa",
                  "1": "Extract zipcode, city, streetname & streetnumber from following address and put it in a JSON object structured as \n\n{\n\n\"zipcode\":\"\" ,\n\n\"city\":\"\" ,\n\n\"streetname\": \"\",\n\n\"streetnumber\":\"\"\n\n } \n\nAddress:###Rua dos Pescadores 1749-012 Lisboa\n\n###\n\njson:",
                  "2": "Portugal",
                  "3": "Convert the country name to the ISO 3166-1 alpha-2 code\n\nCountry:België\n\nISO code:BE\n\n##\n\nCountry:Portugal\n\nISO code:",
                  "4": "12-02-2023",
                  "5": "Convert the date to the DD-MM-YYYY format.\n\ndate: 01/12/24\n\nconverted date: 01-12-2024\n\n##\n\ndate: 2002-05-01\n\nconverted date: 01-05-2002\n\n##\n\ndate:12-02-2023\n\nconverted date:",
                  "6": "23:47",
                  "7": "If the time is in 12hr notation, convert it to 24hr notation \n\n Time: 02:15\n\n24hr: 02:15\n\n##Time: 02:15 p.m.\n\n24hr: 14:15\n\n##Time:23:47\n\n24hr:"
                },
                {
                  "0": "Piazza del Popolo 00187 Roma",
                  "1": "Extract zipcode, city, streetname & streetnumber from following address and put it in a JSON object structured as \n\n{\n\n\"zipcode\":\"\" ,\n\n\"city\":\"\" ,\n\n\"streetname\": \"\",\n\n\"streetnumber\":\"\"\n\n } \n\nAddress:###Piazza del Popolo 00187 Roma\n\n###\n\njson:",
                  "2": "Italia",
                  "3": "Convert the country name to the ISO 3166-1 alpha-2 code\n\nCountry:België\n\nISO code:BE\n\n##\n\nCountry:Italia\n\nISO code:",
                  "4": "03/01/2023",
                  "5": "Convert the date to the DD-MM-YYYY format.\n\ndate: 01/12/24\n\nconverted date: 01-12-2024\n\n##\n\ndate: 2002-05-01\n\nconverted date: 01-05-2002\n\n##\n\ndate:03/01/2023\n\nconverted date:",
                  "6": "14:05",
                  "7": "If the time is in 12hr notation, convert it to 24hr notation \n\n Time: 02:15\n\n24hr: 02:15\n\n##Time: 02:15 p.m.\n\n24hr: 14:15\n\n##Time:14:05\n\n24hr:"
                },
                {
                  "0": "Carrer de Pau Claris 08009 Barcelona",
                  "1": "Extract zipcode, city, streetname & streetnumber from following address and put it in a JSON object structured as \n\n{\n\n\"zipcode\":\"\" ,\n\n\"city\":\"\" ,\n\n\"streetname\": \"\",\n\n\"streetnumber\":\"\"\n\n } \n\nAddress:###Carrer de Pau Claris 08009 Barcelona\n\n###\n\njson:",
                  "2": "Spain",
                  "3": "Convert the country name to the ISO 3166-1 alpha-2 code\n\nCountry:België\n\nISO code:BE\n\n##\n\nCountry:Spain\n\nISO code:",
                  "4": "25122022",
                  "5": "Convert the date to the DD-MM-YYYY format.\n\ndate: 01/12/24\n\nconverted date: 01-12-2024\n\n##\n\ndate: 2002-05-01\n\nconverted date: 01-05-2002\n\n##\n\ndate:25122022\n\nconverted date:",
                  "6": "07:13",
                  "7": "If the time is in 12hr notation, convert it to 24hr notation \n\n Time: 02:15\n\n24hr: 02:15\n\n##Time: 02:15 p.m.\n\n24hr: 14:15\n\n##Time:07:13\n\n24hr:"
                },
                {
                  "0": "Unter den Linden 78, 10117 Berlin",
                  "1": "Extract zipcode, city, streetname & streetnumber from following address and put it in a JSON object structured as \n\n{\n\n\"zipcode\":\"\" ,\n\n\"city\":\"\" ,\n\n\"streetname\": \"\",\n\n\"streetnumber\":\"\"\n\n } \n\nAddress:###Unter den Linden 78, 10117 Berlin\n\n###\n\njson:",
                  "2": "Deutschland",
                  "3": "Convert the country name to the ISO 3166-1 alpha-2 code\n\nCountry:België\n\nISO code:BE\n\n##\n\nCountry:Deutschland\n\nISO code:",
                  "4": "07/11/22",
                  "5": "Convert the date to the DD-MM-YYYY format.\n\ndate: 01/12/24\n\nconverted date: 01-12-2024\n\n##\n\ndate: 2002-05-01\n\nconverted date: 01-05-2002\n\n##\n\ndate:07/11/22\n\nconverted date:",
                  "6": "17:29",
                  "7": "If the time is in 12hr notation, convert it to 24hr notation \n\n Time: 02:15\n\n24hr: 02:15\n\n##Time: 02:15 p.m.\n\n24hr: 14:15\n\n##Time:17:29\n\n24hr:"
                },
                {
                  "0": "Avenue des Gobelins, 75013 Paris",
                  "1": "Extract zipcode, city, streetname & streetnumber from following address and put it in a JSON object structured as \n\n{\n\n\"zipcode\":\"\" ,\n\n\"city\":\"\" ,\n\n\"streetname\": \"\",\n\n\"streetnumber\":\"\"\n\n } \n\nAddress:###Avenue des Gobelins, 75013 Paris\n\n###\n\njson:",
                  "2": "France",
                  "3": "Convert the country name to the ISO 3166-1 alpha-2 code\n\nCountry:België\n\nISO code:BE\n\n##\n\nCountry:France\n\nISO code:",
                  "4": "2022/10/01",
                  "5": "Convert the date to the DD-MM-YYYY format.\n\ndate: 01/12/24\n\nconverted date: 01-12-2024\n\n##\n\ndate: 2002-05-01\n\nconverted date: 01-05-2002\n\n##\n\ndate:2022/10/01\n\nconverted date:",
                  "6": "08:56 a.m.",
                  "7": "If the time is in 12hr notation, convert it to 24hr notation \n\n Time: 02:15\n\n24hr: 02:15\n\n##Time: 02:15 p.m.\n\n24hr: 14:15\n\n##Time:08:56 a.m.\n\n24hr:"
                },
                {
                  "0": "Náměstí Republiky 10, 110 00 Praha 1",
                  "1": "Extract zipcode, city, streetname & streetnumber from following address and put it in a JSON object structured as \n\n{\n\n\"zipcode\":\"\" ,\n\n\"city\":\"\" ,\n\n\"streetname\": \"\",\n\n\"streetnumber\":\"\"\n\n } \n\nAddress:###Náměstí Republiky 10, 110 00 Praha 1\n\n###\n\njson:",
                  "2": "Česká republika",
                  "3": "Convert the country name to the ISO 3166-1 alpha-2 code\n\nCountry:België\n\nISO code:BE\n\n##\n\nCountry:Česká republika\n\nISO code:",
                  "4": "06-09-2022",
                  "5": "Convert the date to the DD-MM-YYYY format.\n\ndate: 01/12/24\n\nconverted date: 01-12-2024\n\n##\n\ndate: 2002-05-01\n\nconverted date: 01-05-2002\n\n##\n\ndate:06-09-2022\n\nconverted date:",
                  "6": "12:34",
                  "7": "If the time is in 12hr notation, convert it to 24hr notation \n\n Time: 02:15\n\n24hr: 02:15\n\n##Time: 02:15 p.m.\n\n24hr: 14:15\n\n##Time:12:34\n\n24hr:"
                },
                {
                  "0": "Korte Leidsedwarsstr 12-14 1017 Amsterdam",
                  "1": "Extract zipcode, city, streetname & streetnumber from following address and put it in a JSON object structured as \n\n{\n\n\"zipcode\":\"\" ,\n\n\"city\":\"\" ,\n\n\"streetname\": \"\",\n\n\"streetnumber\":\"\"\n\n } \n\nAddress:###Korte Leidsedwarsstr 12-14 1017 Amsterdam\n\n###\n\njson:",
                  "2": "Netherlands",
                  "3": "Convert the country name to the ISO 3166-1 alpha-2 code\n\nCountry:België\n\nISO code:BE\n\n##\n\nCountry:Netherlands\n\nISO code:",
                  "4": "22/8/2022",
                  "5": "Convert the date to the DD-MM-YYYY format.\n\ndate: 01/12/24\n\nconverted date: 01-12-2024\n\n##\n\ndate: 2002-05-01\n\nconverted date: 01-05-2002\n\n##\n\ndate:22/8/2022\n\nconverted date:",
                  "6": "21:18",
                  "7": "If the time is in 12hr notation, convert it to 24hr notation \n\n Time: 02:15\n\n24hr: 02:15\n\n##Time: 02:15 p.m.\n\n24hr: 14:15\n\n##Time:21:18\n\n24hr:"
                },
                {
                  "0": "Ulica Krupnicza 7, 31-123 Kraków",
                  "1": "Extract zipcode, city, streetname & streetnumber from following address and put it in a JSON object structured as \n\n{\n\n\"zipcode\":\"\" ,\n\n\"city\":\"\" ,\n\n\"streetname\": \"\",\n\n\"streetnumber\":\"\"\n\n } \n\nAddress:###Ulica Krupnicza 7, 31-123 Kraków\n\n###\n\njson:",
                  "2": "Polska.",
                  "3": "Convert the country name to the ISO 3166-1 alpha-2 code\n\nCountry:België\n\nISO code:BE\n\n##\n\nCountry:Polska.\n\nISO code:",
                  "4": "2022-7-1",
                  "5": "Convert the date to the DD-MM-YYYY format.\n\ndate: 01/12/24\n\nconverted date: 01-12-2024\n\n##\n\ndate: 2002-05-01\n\nconverted date: 01-05-2002\n\n##\n\ndate:2022-7-1\n\nconverted date:",
                  "6": "05:42",
                  "7": "If the time is in 12hr notation, convert it to 24hr notation \n\n Time: 02:15\n\n24hr: 02:15\n\n##Time: 02:15 p.m.\n\n24hr: 14:15\n\n##Time:05:42\n\n24hr:"
                },
                {
                  "0": "Vasagatan 14, 111 20 Stockholm",
                  "1": "Extract zipcode, city, streetname & streetnumber from following address and put it in a JSON object structured as \n\n{\n\n\"zipcode\":\"\" ,\n\n\"city\":\"\" ,\n\n\"streetname\": \"\",\n\n\"streetnumber\":\"\"\n\n } \n\nAddress:###Vasagatan 14, 111 20 Stockholm\n\n###\n\njson:",
                  "2": "Sverige",
                  "3": "Convert the country name to the ISO 3166-1 alpha-2 code\n\nCountry:België\n\nISO code:BE\n\n##\n\nCountry:Sverige\n\nISO code:",
                  "4": "26.06.2022",
                  "5": "Convert the date to the DD-MM-YYYY format.\n\ndate: 01/12/24\n\nconverted date: 01-12-2024\n\n##\n\ndate: 2002-05-01\n\nconverted date: 01-05-2002\n\n##\n\ndate:26.06.2022\n\nconverted date:",
                  "6": "16:09",
                  "7": "If the time is in 12hr notation, convert it to 24hr notation \n\n Time: 02:15\n\n24hr: 02:15\n\n##Time: 02:15 p.m.\n\n24hr: 14:15\n\n##Time:16:09\n\n24hr:"
                },
                {
                  "0": "Andrássy út 60, 1061 Budapest",
                  "1": "Extract zipcode, city, streetname & streetnumber from following address and put it in a JSON object structured as \n\n{\n\n\"zipcode\":\"\" ,\n\n\"city\":\"\" ,\n\n\"streetname\": \"\",\n\n\"streetnumber\":\"\"\n\n } \n\nAddress:###Andrássy út 60, 1061 Budapest\n\n###\n\njson:",
                  "2": "Hungary",
                  "3": "Convert the country name to the ISO 3166-1 alpha-2 code\n\nCountry:België\n\nISO code:BE\n\n##\n\nCountry:Hungary\n\nISO code:",
                  "4": "13/05/2022",
                  "5": "Convert the date to the DD-MM-YYYY format.\n\ndate: 01/12/24\n\nconverted date: 01-12-2024\n\n##\n\ndate: 2002-05-01\n\nconverted date: 01-05-2002\n\n##\n\ndate:13/05/2022\n\nconverted date:",
                  "6": "09:30pm",
                  "7": "If the time is in 12hr notation, convert it to 24hr notation \n\n Time: 02:15\n\n24hr: 02:15\n\n##Time: 02:15 p.m.\n\n24hr: 14:15\n\n##Time:09:30pm\n\n24hr:"
                }
              ],
              "schema": [
                {
                  "key": "0",
                  "name": "insuranceaddress",
                  "type": "string"
                },
                {
                  "key": "1",
                  "name": "prompt_address",
                  "type": "string"
                },
                {
                  "key": "2",
                  "name": "accidentcountry",
                  "type": "string"
                },
                {
                  "key": "3",
                  "name": "prompt_country",
                  "type": "string"
                },
                {
                  "key": "4",
                  "name": "accidentdate",
                  "type": "string"
                },
                {
                  "key": "5",
                  "name": "prompt_date",
                  "type": "string"
                },
                {
                  "key": "6",
                  "name": "accidenttime",
                  "type": "string"
                },
                {
                  "key": "7",
                  "name": "prompt_time",
                  "type": "string"
                }
              ],
              "truncated": false
            }
          },
          "type": "Synapse.DataFrame"
        },
        "f08647d8-5186-4389-a488-a0528bb548e3": {
          "persist_state": {
            "view": {
              "chartOptions": {
                "aggregationType": "count",
                "categoryFieldKeys": [
                  "0"
                ],
                "chartType": "bar",
                "isStacked": false,
                "seriesFieldKeys": [
                  "0"
                ]
              },
              "tableOptions": {},
              "type": "details"
            }
          },
          "sync_state": {
            "isSummary": false,
            "language": "scala",
            "table": {
              "rows": [
                {
                  "0": "Rua dos Pescadores 1749-012 Lisboa",
                  "1": " {\n\"zipcode\": \"1749-012\",\n\"city\": \"Lisboa\", \n\"streetname\": \"Rua dos Pescadores\", \n\"streetnumber\": \"1749-012\"\n}",
                  "2": "Portugal",
                  "3": "PT",
                  "4": "12-02-2023",
                  "5": " 12-02-2023",
                  "6": "23:47",
                  "7": " 23:47"
                },
                {
                  "0": "Piazza del Popolo 00187 Roma",
                  "1": " {\n    \"zipcode\":\"00187\",\n    \"city\":\"Roma\",\n    \"streetname\": \"Piazza del Popolo\",\n    \"streetnumber\":\"\"\n }",
                  "2": "Italia",
                  "3": "IT",
                  "4": "03/01/2023",
                  "5": " 03-01-2023",
                  "6": "14:05",
                  "7": " 14:05"
                },
                {
                  "0": "Carrer de Pau Claris 08009 Barcelona",
                  "1": "\n\n{\n\n\"zipcode\": \"08009\",\n\n\"city\":\"Barcelona\",\n\n\"streetname\":\"Carrer de Pau Claris\",\n\n\"streetnumber\":\"0\"\n\n}",
                  "2": "Spain",
                  "3": "ES",
                  "4": "25122022",
                  "5": "25-12-2022",
                  "6": "07:13",
                  "7": " 07:13"
                },
                {
                  "0": "Unter den Linden 78, 10117 Berlin",
                  "1": "\n{\n\"zipcode\":\"10117\" ,\n\n\"city\":\"Berlin\" ,\n\n\"streetname\": \"Unter den Linden\",\n\n\"streetnumber\":\"78\"\n\n}",
                  "2": "Deutschland",
                  "3": "DE",
                  "4": "07/11/22",
                  "5": " 07-11-2022",
                  "6": "17:29",
                  "7": " 17:29"
                },
                {
                  "0": "Avenue des Gobelins, 75013 Paris",
                  "1": " {\n    \"zipcode\": \"75013\",\n    \"city\": \"Paris\",\n    \"streetname\": \"Avenue des Gobelins\",\n    \"streetnumber\": \"\"\n}",
                  "2": "France",
                  "3": "FR",
                  "4": "2022/10/01",
                  "5": " 01-10-2022",
                  "6": "08:56 a.m.",
                  "7": " 08:56"
                },
                {
                  "0": "Náměstí Republiky 10, 110 00 Praha 1",
                  "1": " {\n\n\"zipcode\":\"110 00\" ,\n\n\"city\":\"Praha 1\" ,\n\n\"streetname\":\"Náměstí Republiky\" ,\n\n\"streetnumber\":\"10\"\n\n}",
                  "2": "Česká republika",
                  "3": "CZ",
                  "4": "06-09-2022",
                  "5": "06-09-2022",
                  "6": "12:34",
                  "7": " 12:34"
                },
                {
                  "0": "Korte Leidsedwarsstr 12-14 1017 Amsterdam",
                  "1": "\n{\n\"zipcode\": \"1017\",\n\"city\": \"Amsterdam\",\n\"streetname\": \"Korte Leidsedwarsstr\",\n\"streetnumber\": \"12-14\"\n}",
                  "2": "Netherlands",
                  "3": "NL",
                  "4": "22/8/2022",
                  "5": " 22-08-2022",
                  "6": "21:18",
                  "7": " 21:18"
                },
                {
                  "0": "Ulica Krupnicza 7, 31-123 Kraków",
                  "1": " \n\n{\n\"zipcode\":\"31-123\" ,\n\"city\":\"Kraków\" ,\n\"streetname\": \"Ulica Krupnicza\",\n\"streetnumber\":\"7\"\n}",
                  "2": "Polska.",
                  "3": "PL",
                  "4": "2022-7-1",
                  "5": " 01-07-2022",
                  "6": "05:42",
                  "7": " 05:42"
                },
                {
                  "0": "Vasagatan 14, 111 20 Stockholm",
                  "1": " {\n\n\"zipcode\":\"11120\" ,\n\n\"city\":\"Stockholm\" ,\n\n\"streetname\": \"Vasagatan\",\n\n\"streetnumber\":\"14\" \n\n}",
                  "2": "Sverige",
                  "3": "SE",
                  "4": "26.06.2022",
                  "5": " 26-06-2022",
                  "6": "16:09",
                  "7": " 16:09"
                },
                {
                  "0": "Andrássy út 60, 1061 Budapest",
                  "1": " \n\n{\n\n\"zipcode\":\"1061\" ,\n\n\"city\":\"Budapest\" ,\n\n\"streetname\": \"Andrássy út\",\n\n\"streetnumber\":\"60\"\n\n }",
                  "2": "Hungary",
                  "3": "HU",
                  "4": "13/05/2022",
                  "5": " 13-05-2022",
                  "6": "09:30pm",
                  "7": " 21:30"
                }
              ],
              "schema": [
                {
                  "key": "0",
                  "name": "insuranceaddress",
                  "type": "string"
                },
                {
                  "key": "1",
                  "name": "address",
                  "type": "string"
                },
                {
                  "key": "2",
                  "name": "accidentcountry",
                  "type": "string"
                },
                {
                  "key": "3",
                  "name": "country",
                  "type": "string"
                },
                {
                  "key": "4",
                  "name": "accidentdate",
                  "type": "string"
                },
                {
                  "key": "5",
                  "name": "date",
                  "type": "string"
                },
                {
                  "key": "6",
                  "name": "accidenttime",
                  "type": "string"
                },
                {
                  "key": "7",
                  "name": "time",
                  "type": "string"
                }
              ],
              "truncated": false
            }
          },
          "type": "Synapse.DataFrame"
        }
      },
      "version": "0.1"
    }
  },
  "nbformat": 4,
  "nbformat_minor": 2
}
