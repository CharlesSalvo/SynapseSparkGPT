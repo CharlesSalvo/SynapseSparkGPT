{
  "cells": [
    {
      "cell_type": "code",
      "execution_count": null,
      "metadata": {
        "jupyter": {
          "outputs_hidden": false,
          "source_hidden": false
        },
        "nteract": {
          "transient": {
            "deleting": false
          }
        }
      },
      "outputs": [],
      "source": [
        "print(\"Create UDF 'create_import(s: str) -> str'\")"
      ]
    },
    {
      "cell_type": "code",
      "execution_count": 1,
      "metadata": {},
      "outputs": [],
      "source": [
        "from pyspark.sql.functions import udf\n",
        "from pyspark.sql.types import StringType\n",
        "\n",
        "def date_prompt(s: str) -> str:\n",
        "    return \"Convert the date to the DD-MM-YYYY format.\\n\\ndate: 01/12/24\\n\\nconverted date: 01-12-2024\\n\\n##\\n\\ndate: 2002-05-01\\n\\nconverted date: 01-05-2002\\n\\n##\\n\\ndate:\"+s+\"\\n\\nconverted date:\"\n",
        "\n",
        "date_prompt_udf = udf(lambda z: date_prompt(z), StringType()) \n",
        "\n",
        "def time_prompt(s: str) -> str:    \n",
        "    return \"If the time is in 12hr notation, convert it to 24hr notation \\n\\n Time: 02:15\\n\\n24hr: 02:15\\n\\n##Time: 02:15 p.m.\\n\\n24hr: 14:15\\n\\n##Time:\"+s+\"\\n\\n24hr:\"\n",
        "\n",
        "time_prompt_udf = udf(lambda z: time_prompt(z), StringType()) \n",
        "\n",
        "def address_prompt(s: str) -> str:\n",
        "    return \"Extract zipcode, city, streetname & streetnumber from following address and put it in a JSON object structured as \\n\\n{\\n\\n\\\"zipcode\\\":\\\"\\\" ,\\n\\n\\\"city\\\":\\\"\\\" ,\\n\\n\\\"streetname\\\": \\\"\\\",\\n\\n\\\"streetnumber\\\":\\\"\\\"\\n\\n } \\n\\nAddress:###\"+s+\"\\n\\n###\\n\\njson:\"\n",
        "\n",
        "address_prompt_udf = udf(lambda z: address_prompt(z), StringType()) \n",
        "\n",
        "def country_prompt(s: str) -> str:\n",
        "    return \"Convert the country name to the ISO 3166-1 alpha-2 code\\n\\nCountry:België\\n\\nISO code:BE\\n\\n##\\n\\nCountry:\"+s+\"\\n\\nISO code:\"\n",
        "\n",
        "country_prompt_udf = udf(lambda z: country_prompt(z), StringType()) \n",
        "\n",
        "\n"
      ]
    },
    {
      "cell_type": "code",
      "execution_count": null,
      "metadata": {
        "jupyter": {
          "outputs_hidden": false,
          "source_hidden": false
        },
        "nteract": {
          "transient": {
            "deleting": false
          }
        }
      },
      "outputs": [],
      "source": [
        "print(\"UDF 'create_import' created\")"
      ]
    }
  ],
  "metadata": {
    "description": null,
    "kernelspec": {
      "display_name": "Synapse PySpark",
      "name": "synapse_pyspark"
    },
    "language_info": {
      "name": "python"
    },
    "save_output": true
  },
  "nbformat": 4,
  "nbformat_minor": 2
}
