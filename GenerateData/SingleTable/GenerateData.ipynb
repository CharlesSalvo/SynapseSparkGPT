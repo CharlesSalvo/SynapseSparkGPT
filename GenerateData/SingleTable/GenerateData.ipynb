{
  "cells": [
    {
      "cell_type": "code",
      "execution_count": null,
      "metadata": {
        "jupyter": {
          "outputs_hidden": false,
          "source_hidden": false
        },
        "nteract": {
          "transient": {
            "deleting": false
          }
        }
      },
      "outputs": [],
      "source": [
        "%run PromptFunction"
      ]
    },
    {
      "cell_type": "code",
      "execution_count": null,
      "metadata": {
        "jupyter": {
          "outputs_hidden": false,
          "source_hidden": false
        },
        "nteract": {
          "transient": {
            "deleting": false
          }
        }
      },
      "outputs": [],
      "source": [
        "from synapse.ml.core.platform import find_secret\n",
        "\n",
        "# Fill in the following lines with your service information\n",
        "service_name = \"<MyOpenAIService>\" # Name of your OpenAI service\n",
        "deployment_name = \"<MyModelDepl>\" # Name of your deployment in OpenAI\n",
        "key = find_secret(\"<MySecret>\", \"<MyKeyVault>\")  # replace this with your secret and keyvault\n",
        "\n",
        "NrOfReviews = 5 # Set number of Restaurantreviews\n"
      ]
    },
    {
      "cell_type": "code",
      "execution_count": null,
      "metadata": {
        "collapsed": false,
        "jupyter": {
          "outputs_hidden": false,
          "source_hidden": false
        },
        "nteract": {
          "transient": {
            "deleting": false
          }
        }
      },
      "outputs": [],
      "source": [
        "from pyspark.sql.types import StructType, StructField, StringType, IntegerType\n",
        "from pyspark.sql.functions import col \n",
        "\n",
        "dfreviewid = df1 = spark.range(1,NrOfReviews + 1) \\\n",
        "    .withColumnRenamed(\"id\", \"reviewid\") \\\n",
        "    .withColumn(\"prompt\", restaurant_prompt_udf())\n",
        "\n",
        "display(dfreviewid)\n",
        "\n"
      ]
    },
    {
      "cell_type": "code",
      "execution_count": null,
      "metadata": {
        "jupyter": {
          "outputs_hidden": false,
          "source_hidden": false
        },
        "nteract": {
          "transient": {
            "deleting": false
          }
        }
      },
      "outputs": [],
      "source": [
        "from synapse.ml.cognitive import OpenAICompletion\n",
        "\n",
        "OpenAICompletion = (\n",
        "    OpenAICompletion()\n",
        "    .setSubscriptionKey(key)\n",
        "    .setDeploymentName(deployment_name)\n",
        "    .setUrl(\"https://{}.openai.azure.com/\".format(service_name))\n",
        "    .setMaxTokens(2048)\n",
        "    .setPromptCol(\"prompt\")\n",
        "    .setErrorCol(\"error\")\n",
        "    .setOutputCol(\"response\")\n",
        ")"
      ]
    },
    {
      "cell_type": "code",
      "execution_count": null,
      "metadata": {
        "collapsed": false,
        "jupyter": {
          "outputs_hidden": false,
          "source_hidden": false
        },
        "nteract": {
          "transient": {
            "deleting": false
          }
        }
      },
      "outputs": [],
      "source": [
        "from pyspark.sql.functions import col\n",
        "\n",
        "dfreview = OpenAICompletion.transform(dfreviewid) \\\n",
        "    .select(col('reviewID'), col('response.choices.text').getItem(0).alias('reviewobject'))\\\n",
        "    .cache()\n",
        "\n",
        "display(dfreview)"
      ]
    },
    {
      "cell_type": "code",
      "execution_count": null,
      "metadata": {
        "collapsed": false,
        "jupyter": {
          "outputs_hidden": false,
          "source_hidden": false
        },
        "nteract": {
          "transient": {
            "deleting": false
          }
        }
      },
      "outputs": [],
      "source": [
        "from pyspark.sql.types import StructType, StructField, StringType\n",
        "from pyspark.sql.functions import col, from_json\n",
        "\n",
        "schema = StructType([ \\\n",
        "        StructField(\"restaurant\", StringType(), False), \\\n",
        "        StructField(\"review\", StringType(), False) \\\n",
        "        ])\n",
        "\n",
        "\n",
        "df = dfreview.withColumn(\"json\",from_json(col(\"reviewobject\"), schema))\\\n",
        "    .select(col(\"reviewID\"), col(\"json.*\"))\n",
        "\n",
        "display(df)\n",
        "\n"
      ]
    }
  ],
  "metadata": {
    "description": null,
    "kernel_info": {
      "name": "synapse_pyspark"
    },
    "kernelspec": {
      "display_name": "Synapse PySpark",
      "language": "Python",
      "name": "synapse_pyspark"
    },
    "language_info": {
      "name": "python"
    },
    "save_output": true,
    "synapse_widget": {
      "state": {
        "0c3445fa-e692-47c8-938d-6866bba759fd": {
          "persist_state": {
            "view": {
              "chartOptions": {
                "aggregationType": "sum",
                "categoryFieldKeys": [
                  "1"
                ],
                "chartType": "bar",
                "isStacked": false,
                "seriesFieldKeys": [
                  "0"
                ]
              },
              "tableOptions": {},
              "type": "details"
            }
          },
          "sync_state": {
            "isSummary": false,
            "language": "scala",
            "table": {
              "rows": [
                {
                  "0": "1",
                  "1": "La Buona Notte",
                  "2": "This place was amazing! The food was delicious and the service was top-notch. Would definitely recommend!"
                },
                {
                  "0": "2",
                  "1": "Giordano's Pizza",
                  "2": "Great pizza - tried the deep dish and it was delicious! The staff were friendly and accommodating. Highly recommend for a big night out."
                },
                {
                  "0": "3",
                  "1": "Bob's Burgers",
                  "2": "I had a great dinner at Bob's Burgers. The burgers were cooked to perfection and the fries were crispy and flavorful. The price was also reasonable. Definitely worth checking out!"
                },
                {
                  "0": "4",
                  "1": "Bing's Chinese Bistro",
                  "2": "I had a delightful experience at Bing's Chinese Bistro. The food was amazing and the service was excellent. Highly recommend it!"
                },
                {
                  "0": "5",
                  "1": "Perry's Steakhouse & Grille",
                  "2": "The food in Perry's is delectable! The steaks are cooked to perfection and the variety of sides leave nothing to be desired."
                }
              ],
              "schema": [
                {
                  "key": "0",
                  "name": "reviewID",
                  "type": "bigint"
                },
                {
                  "key": "1",
                  "name": "restaurant",
                  "type": "string"
                },
                {
                  "key": "2",
                  "name": "review",
                  "type": "string"
                }
              ],
              "truncated": false
            }
          },
          "type": "Synapse.DataFrame"
        },
        "8104891f-9156-4464-9cc0-72b227e43fce": {
          "persist_state": {
            "view": {
              "chartOptions": {
                "aggregationType": "sum",
                "categoryFieldKeys": [
                  "1"
                ],
                "chartType": "bar",
                "isStacked": false,
                "seriesFieldKeys": [
                  "0"
                ]
              },
              "tableOptions": {},
              "type": "details"
            }
          },
          "sync_state": {
            "isSummary": false,
            "language": "scala",
            "table": {
              "rows": [
                {
                  "0": "1",
                  "1": "\n\n{\n    \"restaurant\": \"La Buona Notte\",\n    \"review\": \"This place was amazing! The food was delicious and the service was top-notch. Would definitely recommend!\"\n}"
                },
                {
                  "0": "2",
                  "1": "\n\n{\n    \"restaurant\": \"Giordano's Pizza\",\n    \"review\": \"Great pizza - tried the deep dish and it was delicious! The staff were friendly and accommodating. Highly recommend for a big night out.\"\n}"
                },
                {
                  "0": "3",
                  "1": "\n\n{\n    \"restaurant\" : \"Bob's Burgers\",\n    \"review\" : \"I had a great dinner at Bob's Burgers. The burgers were cooked to perfection and the fries were crispy and flavorful. The price was also reasonable. Definitely worth checking out!\"\n}"
                },
                {
                  "0": "4",
                  "1": "\n\n{\n    \"restaurant\": \"Bing's Chinese Bistro\",\n    \"review\": \"I had a delightful experience at Bing's Chinese Bistro. The food was amazing and the service was excellent. Highly recommend it!\"\n}"
                },
                {
                  "0": "5",
                  "1": "\n\n{\n    \"restaurant\": \"Perry's Steakhouse & Grille\",\n    \"review\": \"The food in Perry's is delectable! The steaks are cooked to perfection and the variety of sides leave nothing to be desired.\"\n}"
                }
              ],
              "schema": [
                {
                  "key": "0",
                  "name": "reviewID",
                  "type": "bigint"
                },
                {
                  "key": "1",
                  "name": "reviewobject",
                  "type": "string"
                }
              ],
              "truncated": false
            }
          },
          "type": "Synapse.DataFrame"
        },
        "94e85de2-8102-4bf7-86c2-342b20a665ff": {
          "persist_state": {
            "view": {
              "chartOptions": {
                "aggregationType": "sum",
                "categoryFieldKeys": [
                  "1"
                ],
                "chartType": "bar",
                "isStacked": false,
                "seriesFieldKeys": [
                  "0"
                ]
              },
              "tableOptions": {},
              "type": "details"
            }
          },
          "sync_state": {
            "isSummary": false,
            "language": "scala",
            "table": {
              "rows": [
                {
                  "0": "1",
                  "1": "Generate a json containing a restaurant review. Use the following json structure:: \\{         \"restaurant\": \"\",         \"review\": \"\" \\}"
                },
                {
                  "0": "2",
                  "1": "Generate a json containing a restaurant review. Use the following json structure:: \\{         \"restaurant\": \"\",         \"review\": \"\" \\}"
                },
                {
                  "0": "3",
                  "1": "Generate a json containing a restaurant review. Use the following json structure:: \\{         \"restaurant\": \"\",         \"review\": \"\" \\}"
                },
                {
                  "0": "4",
                  "1": "Generate a json containing a restaurant review. Use the following json structure:: \\{         \"restaurant\": \"\",         \"review\": \"\" \\}"
                },
                {
                  "0": "5",
                  "1": "Generate a json containing a restaurant review. Use the following json structure:: \\{         \"restaurant\": \"\",         \"review\": \"\" \\}"
                }
              ],
              "schema": [
                {
                  "key": "0",
                  "name": "reviewid",
                  "type": "bigint"
                },
                {
                  "key": "1",
                  "name": "prompt",
                  "type": "string"
                }
              ],
              "truncated": false
            }
          },
          "type": "Synapse.DataFrame"
        }
      },
      "version": "0.1"
    }
  },
  "nbformat": 4,
  "nbformat_minor": 2
}
