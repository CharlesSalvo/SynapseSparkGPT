{
  "cells": [
    {
      "cell_type": "code",
      "execution_count": null,
      "metadata": {
        "jupyter": {
          "outputs_hidden": false,
          "source_hidden": false
        },
        "nteract": {
          "transient": {
            "deleting": false
          }
        }
      },
      "outputs": [],
      "source": [
        "%run PromptFunction_Relational"
      ]
    },
    {
      "cell_type": "code",
      "execution_count": null,
      "metadata": {
        "jupyter": {
          "outputs_hidden": false,
          "source_hidden": false
        },
        "nteract": {
          "transient": {
            "deleting": false
          }
        }
      },
      "outputs": [],
      "source": [
        "from synapse.ml.core.platform import find_secret\n",
        "\n",
        "# Fill in the following lines with your service information\n",
        "service_name = \"<MyOpenAIService>\" # Name of your OpenAI service\n",
        "deployment_name = \"<MyModelDepl>\" # Name of your deployment in OpenAI\n",
        "key = find_secret(\"<MySecret>\", \"<MyKeyVault>\")  # replace this with your secret and keyvault\n",
        "\n",
        "# Note: a cartesian product of customers and restaurants will be generated\n",
        "NrOfCustomers = 5 # Set number of Customers\n",
        "NrOfRestaurants = 5 # Set number of Restaurants\n"
      ]
    },
    {
      "cell_type": "code",
      "execution_count": null,
      "metadata": {
        "collapsed": false,
        "jupyter": {
          "outputs_hidden": false,
          "source_hidden": false
        },
        "nteract": {
          "transient": {
            "deleting": false
          }
        }
      },
      "outputs": [],
      "source": [
        "dfcustomerids = df1 = spark.range(1,NrOfCustomers + 1) \\\n",
        "    .withColumnRenamed(\"id\", \"customerid\") \\\n",
        "    .withColumn(\"prompt\", customer_prompt_udf())\n",
        "\n",
        "display(dfcustomerids)\n"
      ]
    },
    {
      "cell_type": "code",
      "execution_count": null,
      "metadata": {
        "collapsed": false,
        "jupyter": {
          "outputs_hidden": false,
          "source_hidden": false
        },
        "nteract": {
          "transient": {
            "deleting": false
          }
        }
      },
      "outputs": [],
      "source": [
        "dfrestaurantids = df1 = spark.range(1,NrOfRestaurants + 1) \\\n",
        "    .withColumnRenamed(\"id\", \"restaurantid\") \\\n",
        "    .withColumn(\"prompt\", restaurant_prompt_udf())\n",
        "\n",
        "display(dfrestaurantids)\n"
      ]
    },
    {
      "cell_type": "code",
      "execution_count": null,
      "metadata": {
        "jupyter": {
          "outputs_hidden": false,
          "source_hidden": false
        },
        "nteract": {
          "transient": {
            "deleting": false
          }
        }
      },
      "outputs": [],
      "source": [
        "from synapse.ml.cognitive import OpenAICompletion\n",
        "\n",
        "OpenAICompletion = (\n",
        "    OpenAICompletion()\n",
        "    .setSubscriptionKey(key)\n",
        "    .setDeploymentName(deployment_name)\n",
        "    .setUrl(\"https://{}.openai.azure.com/\".format(service_name))\n",
        "    .setMaxTokens(2048)\n",
        "    .setPromptCol(\"prompt\")\n",
        "    .setErrorCol(\"error\")\n",
        "    .setOutputCol(\"response\")\n",
        ")"
      ]
    },
    {
      "cell_type": "code",
      "execution_count": null,
      "metadata": {
        "collapsed": false,
        "jupyter": {
          "outputs_hidden": false,
          "source_hidden": false
        },
        "nteract": {
          "transient": {
            "deleting": false
          }
        }
      },
      "outputs": [],
      "source": [
        "from pyspark.sql.functions import col\n",
        "\n",
        "df_customerobject = OpenAICompletion.transform(dfcustomerids) \\\n",
        "    .select(col('customerid'), col('response.choices.text').getItem(0).alias('customerobject'))\\\n",
        "    .cache()\n",
        "\n",
        "df_restaurantobject = OpenAICompletion.transform(dfrestaurantids) \\\n",
        "    .select(col('restaurantid'), col('response.choices.text').getItem(0).alias('restaurantobject'))\\\n",
        "    .cache()\n",
        "\n",
        "display(df_customerobject)\n",
        "display(df_restaurantobject)\n"
      ]
    },
    {
      "cell_type": "code",
      "execution_count": null,
      "metadata": {
        "collapsed": false,
        "jupyter": {
          "outputs_hidden": false,
          "source_hidden": false
        },
        "nteract": {
          "transient": {
            "deleting": false
          }
        }
      },
      "outputs": [],
      "source": [
        "from pyspark.sql.types import StructType, StructField, StringType, DoubleType\n",
        "from pyspark.sql.functions import col, from_json\n",
        "\n",
        "schemaCustomer = StructType([ \\\n",
        "        StructField(\"firstname\", StringType(), False), \\\n",
        "        StructField(\"lastname\", StringType(), False), \\\n",
        "        StructField(\"username\", StringType(), False), \\\n",
        "        StructField(\"email\", StringType(), False) \\\n",
        "        ])\n",
        "\n",
        "schemaRestaurant = StructType([ \\\n",
        "        StructField(\"restaurant\", StringType(), False), \\\n",
        "        StructField(\"description\", StringType(), False) \\\n",
        "        ])\n",
        "\n",
        "\n",
        "\n",
        "df_customer = df_customerobject.withColumn(\"json\",from_json(col(\"customerobject\"), schemaCustomer))\\\n",
        "    .select(col(\"customerID\"), col(\"json.*\"))\n",
        "\n",
        "df_restaurant = df_restaurantobject.withColumn(\"json\",from_json(col(\"restaurantobject\"), schemaRestaurant))\\\n",
        "    .select(col(\"restaurantID\"), col(\"json.*\"))\n",
        "\n",
        "\n",
        "\n",
        "\n",
        "display(df_customer)\n",
        "display(df_restaurant)\n",
        "\n"
      ]
    },
    {
      "cell_type": "code",
      "execution_count": null,
      "metadata": {
        "collapsed": false,
        "jupyter": {
          "outputs_hidden": false,
          "source_hidden": false
        },
        "nteract": {
          "transient": {
            "deleting": false
          }
        }
      },
      "outputs": [],
      "source": [
        "from pyspark.sql.functions import col, row_number, window, rand\n",
        "from pyspark.sql.types import StructType, StructField, StringType, IntegerType\n",
        "\n",
        "\n",
        "cross_joined_df = df_customer.crossJoin(df_restaurant) \\\n",
        "    .withColumn(\"prompt\", reviews_prompt_udf(col(\"restaurant\"), ((5 * rand()).cast(\"int\") + 1))) \\\n",
        "\n",
        "df_reviewobject = OpenAICompletion.transform(cross_joined_df) \\\n",
        "    .withColumn(\"reviewObject\",col('response.choices.text').getItem(0))\\\n",
        "    .select(col(\"customerid\"),col(\"restaurantid\"), col(\"reviewobject\")) \n",
        "\n",
        "\n",
        "schemaReview = StructType([ \\\n",
        "        StructField(\"reviewdate\", StringType(), False), \\\n",
        "        StructField(\"review\", StringType(), False), \\\n",
        "        StructField(\"rating\", IntegerType(), False) \\\n",
        "        ])\n",
        "\n",
        "\n",
        "df_review = df_reviewobject.withColumn(\"json\",from_json(col(\"reviewobject\"), schemaReview))\\\n",
        "    .select(col(\"restaurantid\"), col(\"customerid\"), col(\"json.*\"))\n",
        "\n",
        "display(df_review)"
      ]
    }
  ],
  "metadata": {
    "description": null,
    "kernel_info": {
      "name": "synapse_pyspark"
    },
    "kernelspec": {
      "display_name": "Synapse PySpark",
      "language": "Python",
      "name": "synapse_pyspark"
    },
    "language_info": {
      "name": "python"
    },
    "save_output": true,
    "synapse_widget": {
      "state": {
        "0db5a3e9-0416-4343-9cec-fde6f35a1d2b": {
          "persist_state": {
            "view": {
              "chartOptions": {
                "aggregationType": "sum",
                "categoryFieldKeys": [
                  "1"
                ],
                "chartType": "bar",
                "isStacked": false,
                "seriesFieldKeys": [
                  "0"
                ]
              },
              "tableOptions": {},
              "type": "details"
            }
          },
          "sync_state": {
            "isSummary": false,
            "language": "scala",
            "table": {
              "rows": [
                {
                  "0": "1",
                  "1": "Famous Pizza Joint",
                  "2": "A cozy local joint serving delicious pizza and Italian specialities."
                },
                {
                  "0": "2",
                  "1": "Becker's Bar and Grill",
                  "2": "Upscale lounge featuring classic American comfort food plus mixed drinks, beer & wine"
                },
                {
                  "0": "3",
                  "1": "Joe's Burgers",
                  "2": "A local burger joint serving up classic burgers, craft beer, and family-style comfort food."
                },
                {
                  "0": "4",
                  "1": "Bob's Burgers",
                  "2": "Family-run restaurant serving burgers, fries and shakes. Located in the heart of downtown. Home of the famous Belly Buster Burger!"
                },
                {
                  "0": "5",
                  "1": "The Kitchen",
                  "2": "The Kitchen is a cozy restaurant offering a variety of delicious, home-style meals infused with exciting flavors. Enjoy dishes like their signature roast beef sandwiches, Thai kabobs, quesadillas, and more!"
                }
              ],
              "schema": [
                {
                  "key": "0",
                  "name": "restaurantID",
                  "type": "bigint"
                },
                {
                  "key": "1",
                  "name": "restaurant",
                  "type": "string"
                },
                {
                  "key": "2",
                  "name": "description",
                  "type": "string"
                }
              ],
              "truncated": false
            }
          },
          "type": "Synapse.DataFrame"
        },
        "29f5b2f6-1d34-4cf0-a4b7-ef8f19f17fda": {
          "persist_state": {
            "view": {
              "chartOptions": {
                "aggregationType": "sum",
                "categoryFieldKeys": [
                  "1"
                ],
                "chartType": "bar",
                "isStacked": false,
                "seriesFieldKeys": [
                  "0"
                ]
              },
              "tableOptions": {},
              "type": "details"
            }
          },
          "sync_state": {
            "isSummary": false,
            "language": "scala",
            "table": {
              "rows": [
                {
                  "0": "1",
                  "1": "Generate a json containing restaurant infromation. Use the following json structure:: {         \"restaurant\": \"\",         \"description\": \"\" }"
                },
                {
                  "0": "2",
                  "1": "Generate a json containing restaurant infromation. Use the following json structure:: {         \"restaurant\": \"\",         \"description\": \"\" }"
                },
                {
                  "0": "3",
                  "1": "Generate a json containing restaurant infromation. Use the following json structure:: {         \"restaurant\": \"\",         \"description\": \"\" }"
                },
                {
                  "0": "4",
                  "1": "Generate a json containing restaurant infromation. Use the following json structure:: {         \"restaurant\": \"\",         \"description\": \"\" }"
                },
                {
                  "0": "5",
                  "1": "Generate a json containing restaurant infromation. Use the following json structure:: {         \"restaurant\": \"\",         \"description\": \"\" }"
                }
              ],
              "schema": [
                {
                  "key": "0",
                  "name": "restaurantid",
                  "type": "bigint"
                },
                {
                  "key": "1",
                  "name": "prompt",
                  "type": "string"
                }
              ],
              "truncated": false
            }
          },
          "type": "Synapse.DataFrame"
        },
        "3f5e8adf-a970-4c34-ab2b-bedc3b1cb34d": {
          "persist_state": {
            "view": {
              "chartOptions": {
                "aggregationType": "sum",
                "categoryFieldKeys": [
                  "1"
                ],
                "chartType": "bar",
                "isStacked": false,
                "seriesFieldKeys": [
                  "0"
                ]
              },
              "tableOptions": {},
              "type": "details"
            }
          },
          "sync_state": {
            "isSummary": false,
            "language": "scala",
            "table": {
              "rows": [
                {
                  "0": "1",
                  "1": "Generate a json containing international customer information. Use the following json structure: {         \"firstname\": \"\",         \"lastname\": \"\",         \"username\": \"\",         \"email\": \"\" }"
                },
                {
                  "0": "2",
                  "1": "Generate a json containing international customer information. Use the following json structure: {         \"firstname\": \"\",         \"lastname\": \"\",         \"username\": \"\",         \"email\": \"\" }"
                },
                {
                  "0": "3",
                  "1": "Generate a json containing international customer information. Use the following json structure: {         \"firstname\": \"\",         \"lastname\": \"\",         \"username\": \"\",         \"email\": \"\" }"
                },
                {
                  "0": "4",
                  "1": "Generate a json containing international customer information. Use the following json structure: {         \"firstname\": \"\",         \"lastname\": \"\",         \"username\": \"\",         \"email\": \"\" }"
                },
                {
                  "0": "5",
                  "1": "Generate a json containing international customer information. Use the following json structure: {         \"firstname\": \"\",         \"lastname\": \"\",         \"username\": \"\",         \"email\": \"\" }"
                }
              ],
              "schema": [
                {
                  "key": "0",
                  "name": "customerid",
                  "type": "bigint"
                },
                {
                  "key": "1",
                  "name": "prompt",
                  "type": "string"
                }
              ],
              "truncated": false
            }
          },
          "type": "Synapse.DataFrame"
        },
        "6f537c45-742a-44fa-a1b3-bec587569adf": {
          "persist_state": {
            "view": {
              "chartOptions": {
                "aggregationType": "sum",
                "categoryFieldKeys": [
                  "1"
                ],
                "chartType": "bar",
                "isStacked": false,
                "seriesFieldKeys": [
                  "0"
                ]
              },
              "tableOptions": {},
              "type": "details"
            }
          },
          "sync_state": {
            "isSummary": false,
            "language": "scala",
            "table": {
              "rows": [
                {
                  "0": "1",
                  "1": "\n\n{\n    \"firstname\": \"Jose\",\n    \"lastname\": \"González\",\n    \"username\": \"jgonzalez99\",\n    \"email\": \"jose.gonzalez@gmail.com\"\n}"
                },
                {
                  "0": "2",
                  "1": "\n\n{\n    \"firstname\": \"Ieva\",\n    \"lastname\": \"Adomavičiūtė\",\n    \"username\": \"ievaadomaviciute\",\n    \"email\": \"ieva.adomaviciute@example.com\"\n}"
                },
                {
                  "0": "3",
                  "1": " \n\n{ \n    \"firstname\": \"Jana\", \n    \"lastname\": \"Schmidt\", \n    \"username\": \"Janaschmidt@gmail.com\", \n    \"email\": \"monaco@yahoo.com\" \n}"
                },
                {
                  "0": "4",
                  "1": "\n\n{\n\"firstname\": \"Alexandra\",\n\"lastname\": \"Henrique\",\n\"username\": \"alexandraH\",\n\"email\": \"alexandrahenrique@example.com\"\n}"
                },
                {
                  "0": "5",
                  "1": "\n\n{\n    \"firstname\": \"John\",\n    \"lastname\": \"Smith\",\n    \"username\": \"johnsmith\",\n    \"email\": \"johnsmith@example.com\"\n}"
                }
              ],
              "schema": [
                {
                  "key": "0",
                  "name": "customerid",
                  "type": "bigint"
                },
                {
                  "key": "1",
                  "name": "customerobject",
                  "type": "string"
                }
              ],
              "truncated": false
            }
          },
          "type": "Synapse.DataFrame"
        },
        "75ac9b1d-45a0-4d44-be26-c611d145b187": {
          "persist_state": {
            "view": {
              "chartOptions": {
                "aggregationType": "sum",
                "categoryFieldKeys": [
                  "1"
                ],
                "chartType": "bar",
                "isStacked": false,
                "seriesFieldKeys": [
                  "0"
                ]
              },
              "tableOptions": {},
              "type": "details"
            }
          },
          "sync_state": {
            "isSummary": false,
            "language": "scala",
            "table": {
              "rows": [
                {
                  "0": "1",
                  "1": "\n\n{\n    \"restaurant\": \"Famous Pizza Joint\",\n    \"description\": \"A cozy local joint serving delicious pizza and Italian specialities.\"\n}"
                },
                {
                  "0": "2",
                  "1": "\n\n{\"restaurant\": \"Becker's Bar and Grill\", \"description\": \"Upscale lounge featuring classic American comfort food plus mixed drinks, beer & wine\"}"
                },
                {
                  "0": "3",
                  "1": "\n\n{\n    \"restaurant\": \"Joe's Burgers\",\n    \"description\": \"A local burger joint serving up classic burgers, craft beer, and family-style comfort food.\"\n}"
                },
                {
                  "0": "4",
                  "1": "\n\n{\n    \"restaurant\": \"Bob's Burgers\",\n    \"description\": \"Family-run restaurant serving burgers, fries and shakes. Located in the heart of downtown. Home of the famous Belly Buster Burger!\"\n}"
                },
                {
                  "0": "5",
                  "1": "\n\n{\n    \"restaurant\": \"The Kitchen\",\n    \"description\": \"The Kitchen is a cozy restaurant offering a variety of delicious, home-style meals infused with exciting flavors. Enjoy dishes like their signature roast beef sandwiches, Thai kabobs, quesadillas, and more!\"\n}"
                }
              ],
              "schema": [
                {
                  "key": "0",
                  "name": "restaurantid",
                  "type": "bigint"
                },
                {
                  "key": "1",
                  "name": "restaurantobject",
                  "type": "string"
                }
              ],
              "truncated": false
            }
          },
          "type": "Synapse.DataFrame"
        },
        "b126b6af-93ee-484f-b213-9496bfd90d43": {
          "persist_state": {
            "view": {
              "chartOptions": {
                "aggregationType": "sum",
                "categoryFieldKeys": [
                  "1"
                ],
                "chartType": "bar",
                "isStacked": false,
                "seriesFieldKeys": [
                  "0"
                ]
              },
              "tableOptions": {},
              "type": "details"
            }
          },
          "sync_state": {
            "isSummary": false,
            "language": "scala",
            "table": {
              "rows": [
                {
                  "0": "1",
                  "1": "1",
                  "2": "20200802",
                  "3": "I really enjoyed the pizza here, the crust was crisp and the toppings flavoursome. However, the customer service was slow and the staff seemed uninterested in making sure we had a great experience. I'd give it a 3 out of 5.",
                  "4": "3"
                },
                {
                  "0": "2",
                  "1": "1",
                  "2": "20200721",
                  "3": "I had one of the worst meals in my life at this restaurant. The food was cold and tasteless and the staff were extremely rude. I would not recommend Becker's Bar and Grill to anyone - it isn't worth the money. Rating: 1/5",
                  "4": "1"
                },
                {
                  "0": "3",
                  "1": "1",
                  "2": "20200607",
                  "3": "I went to Joe's Burgers recently and had a terrible experience. The burgers were not well cooked and tasted old. Service was also very slow. I would not recommend this restaurant.",
                  "4": "1"
                },
                {
                  "0": "4",
                  "1": "1",
                  "2": "20200721",
                  "3": "I had a great experience at Bob's Burgers! The food and service were both top-notch. Highly recommend it to anyone looking for a tasty burger in town!",
                  "4": "4"
                },
                {
                  "0": "5",
                  "1": "1",
                  "2": "20200206",
                  "3": "I had a wonderful experience at The Kitchen restaurant. The menu offered a great selection of dishes and the food was cooked to perfection. The service was also great. All in all, I would definitely recommend this place to my friends. Rating: 4/5",
                  "4": "4"
                },
                {
                  "0": "1",
                  "1": "2",
                  "2": "20200406",
                  "3": "The pizza I got from Famous Pizza Joint was delicious! The crust was perfectly crispy, and the toppings were seasoned well. There was definitely enough to share. I highly recommend this place, definitely worth a 4/5.",
                  "4": "4"
                },
                {
                  "0": "2",
                  "1": "2",
                  "2": "20210502",
                  "3": "Becker's Bar and Grill was a total letdown. The food was bland, prices were unreasonably high, and the service was terrible. Would not recommend. ",
                  "4": "1"
                },
                {
                  "0": "3",
                  "1": "2",
                  "2": "20200506",
                  "3": "Joe's Burgers has delicious burgers and is a great place to grab a bite to eat. The restaurant is always clean and the staff is friendly and welcoming. I highly recommend giving this place a try!The burgers are juicy and flavorful and their fries are always served hot and crispy.",
                  "4": "4"
                },
                {
                  "0": "4",
                  "1": "2",
                  "2": "20201106",
                  "3": "I had the pleasure of dining at Bob's Burgers recently and it was excellent! The food was cooked to perfection, the service was friendly and attentive, and the atmosphere was lively and inviting. I would definitely recommend Bob's Burgers to anyone looking for a great place to eat. The rating I would give is 4 out of 5.",
                  "4": "4"
                },
                {
                  "0": "5",
                  "1": "2",
                  "2": "20200202",
                  "3": "The Kitchen was not up to standard the food was bland and not very tasty. The service was rude and the overall experience was unpleasant. I do not recommend this place.",
                  "4": "1"
                },
                {
                  "0": "1",
                  "1": "3",
                  "2": "20191020",
                  "3": "I had the chance to eat at Famous Pizza Joint and the experience was ok. The pizza was fresh and tasty, but the service was a bit slow. Overall, it was a decent meal but not outstanding. ",
                  "4": "3"
                },
                {
                  "0": "2",
                  "1": "3",
                  "2": "20200815",
                  "3": "If I could give Becker's Bar and Grill a 0 star rating I would. We went here for dinner and did not have a good experience at all. The food was sub-par. The service was very slow and the atmosphere was not conducive to a pleasant dining experience. We would not recommend this restaurant.",
                  "4": "1"
                },
                {
                  "0": "3",
                  "1": "3",
                  "2": "20200920",
                  "3": "I went to Joe's Burgers to eat and was disappointed. The burgers were tough and the fries were overcooked. Service was very slow and the atmosphere was not enjoyable. I would only give this place a 3 out of 5.",
                  "4": "3"
                },
                {
                  "0": "4",
                  "1": "3",
                  "2": "20200512",
                  "3": "I had the chance to go to Bob's Burgers recently. The food was good and the service was friendly, however it was slightly overpriced. Overall my experience was positive and I would rate it 3/5.",
                  "4": "3"
                },
                {
                  "0": "5",
                  "1": "3",
                  "2": "20200525",
                  "3": "The Kitchen was the worst restaurant I have ever visited. The food was of very poor quality and the service was terrible. I would never go here again.",
                  "4": "1"
                },
                {
                  "0": "1",
                  "1": "4",
                  "2": "20200601",
                  "3": "I recently visited Famous Pizza Joint, and I'm pleasantly surprised by the quality of pizza that they serve. The crust was perfectly cooked and the toppings were perfectly balanced. The service was just as good, with the staff being very friendly and attentive. I would highly recommend this restaurant and give it a rating of 4 out of 5.",
                  "4": "4"
                },
                {
                  "0": "2",
                  "1": "4",
                  "2": "20200918",
                  "3": "Becker's Bar and Grill is an excellent place to eat. The food is always fresh and delicious, and the staff is very friendly and helpful. The atmosphere is warm and inviting. I've had some incredible meals here and I would highly recommend it to anyone! Rating 4 out of 5",
                  "4": "4"
                },
                {
                  "0": "3",
                  "1": "4",
                  "2": "20201118",
                  "3": "Joe's Burgers serves delicious tasty burgers. They come with a variety of toppings that are all fresh and flavourful. I'd highly recommend it to anyone who enjoys a good burger. The staff were friendly and helpful. The environment was pleasant. 5/5!",
                  "4": "5"
                },
                {
                  "0": "4",
                  "1": "4",
                  "2": "20200515",
                  "3": "I absolutely loved Bob's Burgers! The food was amazing, service was great and the atmosphere was wonderful. Highly recommend giving it a try!",
                  "4": "4"
                },
                {
                  "0": "5",
                  "1": "4",
                  "2": "20201109",
                  "3": "The Kitchen is terrific! The atmosphere was relaxing and the staff were friendly and attentive. The food was delicious. I especially enjoyed the seafood and the pork dishes. Overall, excellent experience. Highly recommended!",
                  "4": "5"
                },
                {
                  "0": "1",
                  "1": "5",
                  "2": "20200602",
                  "3": "Famous Pizza Joint was one of the worst places I've ever eaten at. The waitstaff was rude and the pizza was soggy and flavorless. I wouldn't recommend anyone going there!",
                  "4": "2"
                },
                {
                  "0": "2",
                  "1": "5",
                  "2": "20190409",
                  "3": "Becker's Bar and Grill had great food and service. The atmosphere was pleasant and enjoyable. The menu had a nice variety of options to choose from. The staff were friendly and attentive. I would definitely recommend giving it a try. The only issue I had was that it was a bit loud in the restaurant, but other than that it was great! Rating: 4/5.",
                  "4": "4"
                },
                {
                  "0": "3",
                  "1": "5",
                  "2": "20201012",
                  "3": "Joe's Burgers is an amazing place - the burger tastes great and the service is always friendly and welcoming. I would highly recommend it to anyone looking for a tasty, no-fuss burger. 5/5!",
                  "4": "5"
                },
                {
                  "0": "4",
                  "1": "5",
                  "2": "20200713",
                  "3": "Bob's Burgers was the worst restaurant experience I've ever had. The food was cold, the service was terrible, and the atmosphere was not pleasant at all. I give it a 1 out of 5.",
                  "4": "1"
                },
                {
                  "0": "5",
                  "1": "5",
                  "2": "20201207",
                  "3": "I had a great experience at The Kitchen! The food was delicious and the staff was very welcoming. I highly recommend it to anyone looking for a nice meal. My only complaint is that the wait time was a little long, but overall I was very pleased with the service. Rating: 4/5",
                  "4": "4"
                }
              ],
              "schema": [
                {
                  "key": "0",
                  "name": "restaurantid",
                  "type": "bigint"
                },
                {
                  "key": "1",
                  "name": "customerid",
                  "type": "bigint"
                },
                {
                  "key": "2",
                  "name": "reviewdate",
                  "type": "string"
                },
                {
                  "key": "3",
                  "name": "review",
                  "type": "string"
                },
                {
                  "key": "4",
                  "name": "rating",
                  "type": "int"
                }
              ],
              "truncated": false
            }
          },
          "type": "Synapse.DataFrame"
        },
        "ecbd121e-8377-4e50-9801-5d2f54e65f67": {
          "persist_state": {
            "view": {
              "chartOptions": {
                "aggregationType": "sum",
                "categoryFieldKeys": [
                  "1"
                ],
                "chartType": "bar",
                "isStacked": false,
                "seriesFieldKeys": [
                  "0"
                ]
              },
              "tableOptions": {},
              "type": "details"
            }
          },
          "sync_state": {
            "isSummary": false,
            "language": "scala",
            "table": {
              "rows": [
                {
                  "0": "1",
                  "1": "Jose",
                  "2": "González",
                  "3": "jgonzalez99",
                  "4": "jose.gonzalez@gmail.com"
                },
                {
                  "0": "2",
                  "1": "Ieva",
                  "2": "Adomavičiūtė",
                  "3": "ievaadomaviciute",
                  "4": "ieva.adomaviciute@example.com"
                },
                {
                  "0": "3",
                  "1": "Jana",
                  "2": "Schmidt",
                  "3": "Janaschmidt@gmail.com",
                  "4": "monaco@yahoo.com"
                },
                {
                  "0": "4",
                  "1": "Alexandra",
                  "2": "Henrique",
                  "3": "alexandraH",
                  "4": "alexandrahenrique@example.com"
                },
                {
                  "0": "5",
                  "1": "John",
                  "2": "Smith",
                  "3": "johnsmith",
                  "4": "johnsmith@example.com"
                }
              ],
              "schema": [
                {
                  "key": "0",
                  "name": "customerID",
                  "type": "bigint"
                },
                {
                  "key": "1",
                  "name": "firstname",
                  "type": "string"
                },
                {
                  "key": "2",
                  "name": "lastname",
                  "type": "string"
                },
                {
                  "key": "3",
                  "name": "username",
                  "type": "string"
                },
                {
                  "key": "4",
                  "name": "email",
                  "type": "string"
                }
              ],
              "truncated": false
            }
          },
          "type": "Synapse.DataFrame"
        }
      },
      "version": "0.1"
    }
  },
  "nbformat": 4,
  "nbformat_minor": 2
}
