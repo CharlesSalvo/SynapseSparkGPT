{
  "cells": [
    {
      "cell_type": "code",
      "execution_count": null,
      "metadata": {
        "jupyter": {
          "outputs_hidden": false,
          "source_hidden": false
        },
        "nteract": {
          "transient": {
            "deleting": false
          }
        }
      },
      "outputs": [],
      "source": [
        "print(\"Create UDFs 'tbl_prompt()) -> str'\")"
      ]
    },
    {
      "cell_type": "code",
      "execution_count": null,
      "metadata": {},
      "outputs": [],
      "source": [
        "from pyspark.sql.functions import udf\n",
        "from pyspark.sql.types import StringType, IntegerType\n",
        "\n",
        "@udf(returnType=StringType())\n",
        "def customer_prompt_udf():\n",
        "    return \"Generate a json containing international customer information. Use the following json structure: \\\n",
        "{ \\\n",
        "        \\\"firstname\\\": \\\"\\\", \\\n",
        "        \\\"lastname\\\": \\\"\\\", \\\n",
        "        \\\"username\\\": \\\"\\\", \\\n",
        "        \\\"email\\\": \\\"\\\" \\\n",
        "}\"\n",
        "\n",
        "@udf(returnType=StringType())\n",
        "def restaurant_prompt_udf():\n",
        "    return \"Generate a json containing restaurant infromation. Use the following json structure:: \\\n",
        "{ \\\n",
        "        \\\"restaurant\\\": \\\"\\\", \\\n",
        "        \\\"description\\\": \\\"\\\" \\\n",
        "}\"\n",
        "\n",
        "\n",
        "@udf(returnType=StringType())\n",
        "def reviews_prompt_udf(restaurant: str, rating: int) -> str:    \n",
        "    return \"Write 1 review for about restaurant \"+restaurant+\" with a rating of \"+str(rating)+\" on a scale to 5 : reviewdate, review, rating. \\\n",
        "Use the following json structure: \\\n",
        "{ \\\n",
        "    \\\"reviewdate\\\": \\\"yyyymmdd\\\", \\\n",
        "    \\\"review\\\": \\\"This contains the review\\\", \\\n",
        "    \\\"rating\\\": 5\\\n",
        "} \\\n",
        "json:\\\n",
        "\"\n",
        "\n"
      ]
    },
    {
      "cell_type": "code",
      "execution_count": null,
      "metadata": {
        "jupyter": {
          "outputs_hidden": false,
          "source_hidden": false
        },
        "nteract": {
          "transient": {
            "deleting": false
          }
        }
      },
      "outputs": [],
      "source": [
        "print(\"UDFs created\")"
      ]
    }
  ],
  "metadata": {
    "description": null,
    "kernel_info": {
      "name": "synapse_pyspark"
    },
    "kernelspec": {
      "display_name": "Synapse PySpark",
      "language": "Python",
      "name": "synapse_pyspark"
    },
    "language_info": {
      "name": "python"
    },
    "save_output": true,
    "synapse_widget": {
      "state": {},
      "version": "0.1"
    }
  },
  "nbformat": 4,
  "nbformat_minor": 2
}
