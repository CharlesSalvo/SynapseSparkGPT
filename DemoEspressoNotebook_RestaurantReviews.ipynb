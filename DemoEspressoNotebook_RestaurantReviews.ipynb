{
  "cells": [
    {
      "cell_type": "code",
      "execution_count": null,
      "metadata": {
        "microsoft": {}
      },
      "outputs": [],
      "source": [
        "from synapse.ml.core.platform import find_secret\n",
        "\n",
        "# Fill in the following lines with your service information\n",
        "service_name = \"<MyOpenAIService>\" # Name of your OpenAI service\n",
        "deployment_name = \"<MyModelDepl>\" # Name of your deployment in OpenAI\n",
        "key = find_secret(\"<MySecret>\", \"<MyKeyVault>\")  # replace this with your secret and keyvault"
      ]
    },
    {
      "cell_type": "code",
      "execution_count": null,
      "metadata": {
        "collapsed": false,
        "jupyter": {
          "outputs_hidden": false,
          "source_hidden": false
        },
        "microsoft": {},
        "nteract": {
          "transient": {
            "deleting": false
          }
        }
      },
      "outputs": [],
      "source": [
        "from pyspark.sql.types import *\n",
        "from pyspark.sql.functions import *\n",
        "\n",
        "df = spark.read.option('header', 'true') \\\n",
        "                .option('delimiter', '|') \\\n",
        "                .csv('abfss://<container>@<myadls>.dfs.core.windows.net/RestaurantReview.csv')\n",
        "\n",
        "display(df)"
      ]
    },
    {
      "cell_type": "code",
      "execution_count": null,
      "metadata": {
        "collapsed": false,
        "jupyter": {
          "outputs_hidden": false,
          "source_hidden": false
        },
        "nteract": {
          "transient": {
            "deleting": false
          }
        }
      },
      "outputs": [],
      "source": [
        "dfprompt = df.withColumn('prompt',\\\n",
        "                concat(lit('Classify the sentiment of following restaurant review. Classifications: [Positive, Negative , Neutral] \\n\\nReview: ')\\\n",
        "                , col('Review')\\\n",
        "                ,lit('\\n\\nClassification:')))\\\n",
        "            \n",
        "\n",
        "display(dfprompt)"
      ]
    },
    {
      "cell_type": "code",
      "execution_count": null,
      "metadata": {
        "collapsed": false,
        "jupyter": {
          "outputs_hidden": false,
          "source_hidden": false
        },
        "nteract": {
          "transient": {
            "deleting": false
          }
        }
      },
      "outputs": [],
      "source": [
        "from synapse.ml.cognitive import OpenAICompletion\n",
        "\n",
        "completion = (\n",
        "    OpenAICompletion()\n",
        "    .setSubscriptionKey(key)\n",
        "    .setDeploymentName(deployment_name)\n",
        "    .setUrl(\"https://{}.openai.azure.com/\".format(service_name))\n",
        "    #.setMaxTokens(200)\n",
        "    .setPromptCol(\"prompt\")\n",
        "    .setErrorCol(\"error\")\n",
        "    .setOutputCol(\"response\")\n",
        ")\n",
        "\n"
      ]
    },
    {
      "cell_type": "code",
      "execution_count": null,
      "metadata": {
        "collapsed": false,
        "jupyter": {
          "outputs_hidden": false,
          "source_hidden": false
        },
        "nteract": {
          "transient": {
            "deleting": false
          }
        }
      },
      "outputs": [],
      "source": [
        "from pyspark.sql.functions import col\n",
        "\n",
        "completed_df = completion.transform(dfprompt).cache()\n",
        "\n",
        "display(completed_df)\n"
      ]
    },
    {
      "cell_type": "code",
      "execution_count": null,
      "metadata": {
        "collapsed": false,
        "jupyter": {
          "outputs_hidden": false,
          "source_hidden": false
        },
        "nteract": {
          "transient": {
            "deleting": false
          }
        }
      },
      "outputs": [],
      "source": [
        "from pyspark.sql.functions import col\n",
        "\n",
        "display(\n",
        "    completed_df.select( \n",
        "        col('Restaurant'), \n",
        "        col('Review'), \n",
        "        col('response.choices.text').getItem(0).alias('openai_sentiment')     \n",
        "    )\n",
        "    \n",
        ")"
      ]
    }
  ],
  "metadata": {
    "description": null,
    "kernelspec": {
      "display_name": "Synapse PySpark",
      "name": "synapse_pyspark"
    },
    "language_info": {
      "name": "python"
    },
    "save_output": true,
    "synapse_widget": {
      "state": {},
      "version": "0.1"
    }
  },
  "nbformat": 4,
  "nbformat_minor": 2
}
